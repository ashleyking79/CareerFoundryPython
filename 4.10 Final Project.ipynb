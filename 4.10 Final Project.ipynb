{
 "cells": [
  {
   "cell_type": "code",
   "execution_count": 4,
   "id": "296ad20d",
   "metadata": {},
   "outputs": [],
   "source": [
    "# Import libraries\n",
    "import pandas as pd\n",
    "import numpy as np\n",
    "import os"
   ]
  },
  {
   "cell_type": "code",
   "execution_count": 5,
   "id": "6e84c07f",
   "metadata": {},
   "outputs": [],
   "source": [
    "#Import merged Notebook\n",
    "df = pd.read_pickle(r\"C:\\Users\\18179\\Documents\\CareerFoundry\\InstaCart Basket Analysis\\02 Data\\Prepared Data\\df_cust_prod_merged.pkl\")"
   ]
  },
  {
   "cell_type": "code",
   "execution_count": 6,
   "id": "83c88498",
   "metadata": {},
   "outputs": [
    {
     "data": {
      "text/html": [
       "<div>\n",
       "<style scoped>\n",
       "    .dataframe tbody tr th:only-of-type {\n",
       "        vertical-align: middle;\n",
       "    }\n",
       "\n",
       "    .dataframe tbody tr th {\n",
       "        vertical-align: top;\n",
       "    }\n",
       "\n",
       "    .dataframe thead th {\n",
       "        text-align: right;\n",
       "    }\n",
       "</style>\n",
       "<table border=\"1\" class=\"dataframe\">\n",
       "  <thead>\n",
       "    <tr style=\"text-align: right;\">\n",
       "      <th></th>\n",
       "      <th>order_id</th>\n",
       "      <th>user_id</th>\n",
       "      <th>order_number</th>\n",
       "      <th>order_day_of_week</th>\n",
       "      <th>order_hour_of_day</th>\n",
       "      <th>days_since_prior_order</th>\n",
       "      <th>product_id</th>\n",
       "      <th>add_to_cart_order</th>\n",
       "      <th>reordered</th>\n",
       "      <th>product_name</th>\n",
       "      <th>...</th>\n",
       "      <th>spending_flag</th>\n",
       "      <th>frequency</th>\n",
       "      <th>order_frequency_flag</th>\n",
       "      <th>Gender</th>\n",
       "      <th>State</th>\n",
       "      <th>Age</th>\n",
       "      <th>date_joined</th>\n",
       "      <th>n_dependants</th>\n",
       "      <th>fam_status</th>\n",
       "      <th>income</th>\n",
       "    </tr>\n",
       "  </thead>\n",
       "  <tbody>\n",
       "    <tr>\n",
       "      <th>0</th>\n",
       "      <td>2539329</td>\n",
       "      <td>1</td>\n",
       "      <td>1</td>\n",
       "      <td>2</td>\n",
       "      <td>8</td>\n",
       "      <td>NaN</td>\n",
       "      <td>196</td>\n",
       "      <td>1</td>\n",
       "      <td>0</td>\n",
       "      <td>Soda</td>\n",
       "      <td>...</td>\n",
       "      <td>Low spender</td>\n",
       "      <td>20.5</td>\n",
       "      <td>Non-frequent customer</td>\n",
       "      <td>Female</td>\n",
       "      <td>Alabama</td>\n",
       "      <td>31</td>\n",
       "      <td>2/17/2019</td>\n",
       "      <td>3</td>\n",
       "      <td>married</td>\n",
       "      <td>40423</td>\n",
       "    </tr>\n",
       "    <tr>\n",
       "      <th>1</th>\n",
       "      <td>2398795</td>\n",
       "      <td>1</td>\n",
       "      <td>2</td>\n",
       "      <td>3</td>\n",
       "      <td>7</td>\n",
       "      <td>15.0</td>\n",
       "      <td>196</td>\n",
       "      <td>1</td>\n",
       "      <td>1</td>\n",
       "      <td>Soda</td>\n",
       "      <td>...</td>\n",
       "      <td>Low spender</td>\n",
       "      <td>20.5</td>\n",
       "      <td>Non-frequent customer</td>\n",
       "      <td>Female</td>\n",
       "      <td>Alabama</td>\n",
       "      <td>31</td>\n",
       "      <td>2/17/2019</td>\n",
       "      <td>3</td>\n",
       "      <td>married</td>\n",
       "      <td>40423</td>\n",
       "    </tr>\n",
       "    <tr>\n",
       "      <th>2</th>\n",
       "      <td>473747</td>\n",
       "      <td>1</td>\n",
       "      <td>3</td>\n",
       "      <td>3</td>\n",
       "      <td>12</td>\n",
       "      <td>21.0</td>\n",
       "      <td>196</td>\n",
       "      <td>1</td>\n",
       "      <td>1</td>\n",
       "      <td>Soda</td>\n",
       "      <td>...</td>\n",
       "      <td>Low spender</td>\n",
       "      <td>20.5</td>\n",
       "      <td>Non-frequent customer</td>\n",
       "      <td>Female</td>\n",
       "      <td>Alabama</td>\n",
       "      <td>31</td>\n",
       "      <td>2/17/2019</td>\n",
       "      <td>3</td>\n",
       "      <td>married</td>\n",
       "      <td>40423</td>\n",
       "    </tr>\n",
       "    <tr>\n",
       "      <th>3</th>\n",
       "      <td>2254736</td>\n",
       "      <td>1</td>\n",
       "      <td>4</td>\n",
       "      <td>4</td>\n",
       "      <td>7</td>\n",
       "      <td>29.0</td>\n",
       "      <td>196</td>\n",
       "      <td>1</td>\n",
       "      <td>1</td>\n",
       "      <td>Soda</td>\n",
       "      <td>...</td>\n",
       "      <td>Low spender</td>\n",
       "      <td>20.5</td>\n",
       "      <td>Non-frequent customer</td>\n",
       "      <td>Female</td>\n",
       "      <td>Alabama</td>\n",
       "      <td>31</td>\n",
       "      <td>2/17/2019</td>\n",
       "      <td>3</td>\n",
       "      <td>married</td>\n",
       "      <td>40423</td>\n",
       "    </tr>\n",
       "    <tr>\n",
       "      <th>4</th>\n",
       "      <td>431534</td>\n",
       "      <td>1</td>\n",
       "      <td>5</td>\n",
       "      <td>4</td>\n",
       "      <td>15</td>\n",
       "      <td>28.0</td>\n",
       "      <td>196</td>\n",
       "      <td>1</td>\n",
       "      <td>1</td>\n",
       "      <td>Soda</td>\n",
       "      <td>...</td>\n",
       "      <td>Low spender</td>\n",
       "      <td>20.5</td>\n",
       "      <td>Non-frequent customer</td>\n",
       "      <td>Female</td>\n",
       "      <td>Alabama</td>\n",
       "      <td>31</td>\n",
       "      <td>2/17/2019</td>\n",
       "      <td>3</td>\n",
       "      <td>married</td>\n",
       "      <td>40423</td>\n",
       "    </tr>\n",
       "    <tr>\n",
       "      <th>...</th>\n",
       "      <td>...</td>\n",
       "      <td>...</td>\n",
       "      <td>...</td>\n",
       "      <td>...</td>\n",
       "      <td>...</td>\n",
       "      <td>...</td>\n",
       "      <td>...</td>\n",
       "      <td>...</td>\n",
       "      <td>...</td>\n",
       "      <td>...</td>\n",
       "      <td>...</td>\n",
       "      <td>...</td>\n",
       "      <td>...</td>\n",
       "      <td>...</td>\n",
       "      <td>...</td>\n",
       "      <td>...</td>\n",
       "      <td>...</td>\n",
       "      <td>...</td>\n",
       "      <td>...</td>\n",
       "      <td>...</td>\n",
       "      <td>...</td>\n",
       "    </tr>\n",
       "    <tr>\n",
       "      <th>32404854</th>\n",
       "      <td>156685</td>\n",
       "      <td>106143</td>\n",
       "      <td>26</td>\n",
       "      <td>4</td>\n",
       "      <td>23</td>\n",
       "      <td>5.0</td>\n",
       "      <td>19675</td>\n",
       "      <td>1</td>\n",
       "      <td>1</td>\n",
       "      <td>Organic Raspberry Black Tea</td>\n",
       "      <td>...</td>\n",
       "      <td>High spender</td>\n",
       "      <td>7.0</td>\n",
       "      <td>Frequent customer</td>\n",
       "      <td>Male</td>\n",
       "      <td>Hawaii</td>\n",
       "      <td>25</td>\n",
       "      <td>5/26/2017</td>\n",
       "      <td>0</td>\n",
       "      <td>single</td>\n",
       "      <td>53755</td>\n",
       "    </tr>\n",
       "    <tr>\n",
       "      <th>32404855</th>\n",
       "      <td>484769</td>\n",
       "      <td>66343</td>\n",
       "      <td>1</td>\n",
       "      <td>6</td>\n",
       "      <td>11</td>\n",
       "      <td>NaN</td>\n",
       "      <td>47210</td>\n",
       "      <td>1</td>\n",
       "      <td>0</td>\n",
       "      <td>Fresh Farmed Tilapia Fillet</td>\n",
       "      <td>...</td>\n",
       "      <td>Low spender</td>\n",
       "      <td>30.0</td>\n",
       "      <td>Non-frequent customer</td>\n",
       "      <td>Female</td>\n",
       "      <td>Tennessee</td>\n",
       "      <td>22</td>\n",
       "      <td>9/12/2017</td>\n",
       "      <td>3</td>\n",
       "      <td>married</td>\n",
       "      <td>46151</td>\n",
       "    </tr>\n",
       "    <tr>\n",
       "      <th>32404856</th>\n",
       "      <td>1561557</td>\n",
       "      <td>66343</td>\n",
       "      <td>2</td>\n",
       "      <td>1</td>\n",
       "      <td>11</td>\n",
       "      <td>30.0</td>\n",
       "      <td>47210</td>\n",
       "      <td>1</td>\n",
       "      <td>1</td>\n",
       "      <td>Fresh Farmed Tilapia Fillet</td>\n",
       "      <td>...</td>\n",
       "      <td>Low spender</td>\n",
       "      <td>30.0</td>\n",
       "      <td>Non-frequent customer</td>\n",
       "      <td>Female</td>\n",
       "      <td>Tennessee</td>\n",
       "      <td>22</td>\n",
       "      <td>9/12/2017</td>\n",
       "      <td>3</td>\n",
       "      <td>married</td>\n",
       "      <td>46151</td>\n",
       "    </tr>\n",
       "    <tr>\n",
       "      <th>32404857</th>\n",
       "      <td>276317</td>\n",
       "      <td>66343</td>\n",
       "      <td>3</td>\n",
       "      <td>6</td>\n",
       "      <td>15</td>\n",
       "      <td>19.0</td>\n",
       "      <td>47210</td>\n",
       "      <td>1</td>\n",
       "      <td>1</td>\n",
       "      <td>Fresh Farmed Tilapia Fillet</td>\n",
       "      <td>...</td>\n",
       "      <td>Low spender</td>\n",
       "      <td>30.0</td>\n",
       "      <td>Non-frequent customer</td>\n",
       "      <td>Female</td>\n",
       "      <td>Tennessee</td>\n",
       "      <td>22</td>\n",
       "      <td>9/12/2017</td>\n",
       "      <td>3</td>\n",
       "      <td>married</td>\n",
       "      <td>46151</td>\n",
       "    </tr>\n",
       "    <tr>\n",
       "      <th>32404858</th>\n",
       "      <td>2922475</td>\n",
       "      <td>66343</td>\n",
       "      <td>4</td>\n",
       "      <td>1</td>\n",
       "      <td>12</td>\n",
       "      <td>30.0</td>\n",
       "      <td>47210</td>\n",
       "      <td>1</td>\n",
       "      <td>1</td>\n",
       "      <td>Fresh Farmed Tilapia Fillet</td>\n",
       "      <td>...</td>\n",
       "      <td>Low spender</td>\n",
       "      <td>30.0</td>\n",
       "      <td>Non-frequent customer</td>\n",
       "      <td>Female</td>\n",
       "      <td>Tennessee</td>\n",
       "      <td>22</td>\n",
       "      <td>9/12/2017</td>\n",
       "      <td>3</td>\n",
       "      <td>married</td>\n",
       "      <td>46151</td>\n",
       "    </tr>\n",
       "  </tbody>\n",
       "</table>\n",
       "<p>32404859 rows × 30 columns</p>\n",
       "</div>"
      ],
      "text/plain": [
       "          order_id  user_id  order_number  order_day_of_week  \\\n",
       "0          2539329        1             1                  2   \n",
       "1          2398795        1             2                  3   \n",
       "2           473747        1             3                  3   \n",
       "3          2254736        1             4                  4   \n",
       "4           431534        1             5                  4   \n",
       "...            ...      ...           ...                ...   \n",
       "32404854    156685   106143            26                  4   \n",
       "32404855    484769    66343             1                  6   \n",
       "32404856   1561557    66343             2                  1   \n",
       "32404857    276317    66343             3                  6   \n",
       "32404858   2922475    66343             4                  1   \n",
       "\n",
       "          order_hour_of_day  days_since_prior_order  product_id  \\\n",
       "0                         8                     NaN         196   \n",
       "1                         7                    15.0         196   \n",
       "2                        12                    21.0         196   \n",
       "3                         7                    29.0         196   \n",
       "4                        15                    28.0         196   \n",
       "...                     ...                     ...         ...   \n",
       "32404854                 23                     5.0       19675   \n",
       "32404855                 11                     NaN       47210   \n",
       "32404856                 11                    30.0       47210   \n",
       "32404857                 15                    19.0       47210   \n",
       "32404858                 12                    30.0       47210   \n",
       "\n",
       "          add_to_cart_order  reordered                 product_name  ...  \\\n",
       "0                         1          0                         Soda  ...   \n",
       "1                         1          1                         Soda  ...   \n",
       "2                         1          1                         Soda  ...   \n",
       "3                         1          1                         Soda  ...   \n",
       "4                         1          1                         Soda  ...   \n",
       "...                     ...        ...                          ...  ...   \n",
       "32404854                  1          1  Organic Raspberry Black Tea  ...   \n",
       "32404855                  1          0  Fresh Farmed Tilapia Fillet  ...   \n",
       "32404856                  1          1  Fresh Farmed Tilapia Fillet  ...   \n",
       "32404857                  1          1  Fresh Farmed Tilapia Fillet  ...   \n",
       "32404858                  1          1  Fresh Farmed Tilapia Fillet  ...   \n",
       "\n",
       "          spending_flag  frequency   order_frequency_flag  Gender      State  \\\n",
       "0           Low spender       20.5  Non-frequent customer  Female    Alabama   \n",
       "1           Low spender       20.5  Non-frequent customer  Female    Alabama   \n",
       "2           Low spender       20.5  Non-frequent customer  Female    Alabama   \n",
       "3           Low spender       20.5  Non-frequent customer  Female    Alabama   \n",
       "4           Low spender       20.5  Non-frequent customer  Female    Alabama   \n",
       "...                 ...        ...                    ...     ...        ...   \n",
       "32404854   High spender        7.0      Frequent customer    Male     Hawaii   \n",
       "32404855    Low spender       30.0  Non-frequent customer  Female  Tennessee   \n",
       "32404856    Low spender       30.0  Non-frequent customer  Female  Tennessee   \n",
       "32404857    Low spender       30.0  Non-frequent customer  Female  Tennessee   \n",
       "32404858    Low spender       30.0  Non-frequent customer  Female  Tennessee   \n",
       "\n",
       "         Age date_joined  n_dependants fam_status  income  \n",
       "0         31   2/17/2019             3    married   40423  \n",
       "1         31   2/17/2019             3    married   40423  \n",
       "2         31   2/17/2019             3    married   40423  \n",
       "3         31   2/17/2019             3    married   40423  \n",
       "4         31   2/17/2019             3    married   40423  \n",
       "...       ..         ...           ...        ...     ...  \n",
       "32404854  25   5/26/2017             0     single   53755  \n",
       "32404855  22   9/12/2017             3    married   46151  \n",
       "32404856  22   9/12/2017             3    married   46151  \n",
       "32404857  22   9/12/2017             3    married   46151  \n",
       "32404858  22   9/12/2017             3    married   46151  \n",
       "\n",
       "[32404859 rows x 30 columns]"
      ]
     },
     "execution_count": 6,
     "metadata": {},
     "output_type": "execute_result"
    }
   ],
   "source": [
    "#2a. PII data compliance. Drop personal data\n",
    "\n",
    "df.drop(columns = ['First Name', 'Last Name'] )"
   ]
  },
  {
   "cell_type": "code",
   "execution_count": 7,
   "id": "4d59b30c",
   "metadata": {},
   "outputs": [],
   "source": [
    "#3a. Create geographical regions\n",
    "regions = []\n",
    "\n",
    "for state in df['State']:\n",
    "    if (state == 'Wisconsin') or (state == 'Michigan') or (state == 'Illinois') or (state == 'Indiana') or (state == 'Ohio') or (state == 'North Dakota') or (state == 'South Dakota') or (state == 'Nebraska') or (state == 'Minnesota') or (state == 'Iowa') or (state == 'Missouri') or (state == 'Kansas'):\n",
    "        regions.append('Midwest')\n",
    "    elif (state == 'Maine') or (state == 'New Hampshire') or (state == 'Vermont') or (state == 'Massachusetts') or (state == 'Rhode Island') or (state == 'Connecticut') or (state == 'New York') or (state == 'Pennsylvania') or (state =='New Jersey'):\n",
    "        regions.append('Northeast')\n",
    "    elif (state == 'Deleware') or (state == 'Maryland') or (state == 'District of Columbia') or (state == 'Virginia') or (state == 'West Virginia') or (state == 'North Carolina') or (state == 'South Carolina') or (state == 'Georgia') or (state == 'Florida') or (state == 'Kentucky') or (state == 'Tennessee') or (state == 'Mississippi') or (state == 'Alabama') or (state == 'Oklahoma') or (state == 'Texas') or (state == 'Arkansas') or (state == 'Louisiana'):\n",
    "        regions.append('South')\n",
    "    else:\n",
    "        regions.append('West')"
   ]
  },
  {
   "cell_type": "code",
   "execution_count": 8,
   "id": "777fea64",
   "metadata": {},
   "outputs": [],
   "source": [
    "#Create new Region column \n",
    "\n",
    "df['Region'] = regions"
   ]
  },
  {
   "cell_type": "code",
   "execution_count": 9,
   "id": "470b1543",
   "metadata": {},
   "outputs": [
    {
     "data": {
      "text/plain": [
       "South        10154861\n",
       "West          8929937\n",
       "Midwest       7597325\n",
       "Northeast     5722736\n",
       "Name: Region, dtype: int64"
      ]
     },
     "execution_count": 9,
     "metadata": {},
     "output_type": "execute_result"
    }
   ],
   "source": [
    "#Check code\n",
    "\n",
    "df['Region'].value_counts(dropna = False)"
   ]
  },
  {
   "cell_type": "code",
   "execution_count": 10,
   "id": "0201dca4",
   "metadata": {},
   "outputs": [
    {
     "data": {
      "text/html": [
       "<div>\n",
       "<style scoped>\n",
       "    .dataframe tbody tr th:only-of-type {\n",
       "        vertical-align: middle;\n",
       "    }\n",
       "\n",
       "    .dataframe tbody tr th {\n",
       "        vertical-align: top;\n",
       "    }\n",
       "\n",
       "    .dataframe thead th {\n",
       "        text-align: right;\n",
       "    }\n",
       "</style>\n",
       "<table border=\"1\" class=\"dataframe\">\n",
       "  <thead>\n",
       "    <tr style=\"text-align: right;\">\n",
       "      <th>spending_flag</th>\n",
       "      <th>High spender</th>\n",
       "      <th>Low spender</th>\n",
       "    </tr>\n",
       "    <tr>\n",
       "      <th>Region</th>\n",
       "      <th></th>\n",
       "      <th></th>\n",
       "    </tr>\n",
       "  </thead>\n",
       "  <tbody>\n",
       "    <tr>\n",
       "      <th>Midwest</th>\n",
       "      <td>155946</td>\n",
       "      <td>7441379</td>\n",
       "    </tr>\n",
       "    <tr>\n",
       "      <th>Northeast</th>\n",
       "      <td>108218</td>\n",
       "      <td>5614518</td>\n",
       "    </tr>\n",
       "    <tr>\n",
       "      <th>South</th>\n",
       "      <td>193037</td>\n",
       "      <td>9961824</td>\n",
       "    </tr>\n",
       "    <tr>\n",
       "      <th>West</th>\n",
       "      <td>176916</td>\n",
       "      <td>8753021</td>\n",
       "    </tr>\n",
       "  </tbody>\n",
       "</table>\n",
       "</div>"
      ],
      "text/plain": [
       "spending_flag  High spender  Low spender\n",
       "Region                                  \n",
       "Midwest              155946      7441379\n",
       "Northeast            108218      5614518\n",
       "South                193037      9961824\n",
       "West                 176916      8753021"
      ]
     },
     "execution_count": 10,
     "metadata": {},
     "output_type": "execute_result"
    }
   ],
   "source": [
    "#3b. Determine difference in regional spending habits. Cross 'Region' w/ 'Spending Flag'\n",
    "\n",
    "crosstab_region_spend = pd.crosstab(df['Region'], df['spending_flag'], dropna = False)\n",
    "crosstab_region_spend"
   ]
  },
  {
   "cell_type": "code",
   "execution_count": 11,
   "id": "ad28732a",
   "metadata": {},
   "outputs": [],
   "source": [
    "#4a. Exclude low-activity customers. Create flagged column\n",
    "\n",
    "df.loc[df['max_order'] < 5, 'activity'] = 'low'"
   ]
  },
  {
   "cell_type": "code",
   "execution_count": 12,
   "id": "40091306",
   "metadata": {},
   "outputs": [],
   "source": [
    "#Identify highly active users\n",
    "\n",
    "df.loc[df['max_order'] > 5, 'activity'] = 'high'"
   ]
  },
  {
   "cell_type": "code",
   "execution_count": 13,
   "id": "0d7ef96d",
   "metadata": {},
   "outputs": [],
   "source": [
    "#exclude low activity customers from new df\n",
    "\n",
    "df_new = df[df['max_order'] > 5]"
   ]
  },
  {
   "cell_type": "markdown",
   "id": "e68911d8",
   "metadata": {},
   "source": [
    "MARKETING STRATEGY"
   ]
  },
  {
   "cell_type": "code",
   "execution_count": 12,
   "id": "a53b8ab4",
   "metadata": {},
   "outputs": [],
   "source": [
    "#5a. Create customer profiles for new marketing strategy. Their status with what they buy. Age-dept\n",
    "\n",
    "crosstab_age = pd.crosstab(df_new['Age'], df_new['department_id'], dropna = False)\n",
    "crosstab_age.to_clipboard()"
   ]
  },
  {
   "cell_type": "code",
   "execution_count": 13,
   "id": "dd168ecb",
   "metadata": {},
   "outputs": [],
   "source": [
    "#Age-time\n",
    "\n",
    "crosstab_age_time = pd.crosstab(df_new['Age'], df_new['order_hour_of_day'], dropna = False)\n",
    "crosstab_age_time.to_clipboard()"
   ]
  },
  {
   "cell_type": "code",
   "execution_count": 14,
   "id": "427958a7",
   "metadata": {},
   "outputs": [],
   "source": [
    "#Age-day\n",
    "\n",
    "crosstab_age_day = pd.crosstab(df_new['Age'], df_new['order_day_of_week'], dropna = False)\n",
    "crosstab_age_day.to_clipboard()"
   ]
  },
  {
   "cell_type": "code",
   "execution_count": 15,
   "id": "fd8cb785",
   "metadata": {},
   "outputs": [],
   "source": [
    "#Income-Dept\n",
    "crosstab_inc_dept = pd.crosstab(df_new['income'], df_new['department_id'], dropna = False)\n",
    "crosstab_inc_dept.to_clipboard()"
   ]
  },
  {
   "cell_type": "code",
   "execution_count": 16,
   "id": "a8add36c",
   "metadata": {},
   "outputs": [],
   "source": [
    "#income-time\n",
    "crosstab_inc_time = pd.crosstab(df_new['income'], df_new['order_hour_of_day'], dropna = False)\n",
    "crosstab_inc_time.to_clipboard()"
   ]
  },
  {
   "cell_type": "code",
   "execution_count": 17,
   "id": "b6157e5e",
   "metadata": {},
   "outputs": [],
   "source": [
    "#income-day\n",
    "crosstab_inc_day = pd.crosstab(df_new['income'], df_new['order_day_of_week'], dropna = False)\n",
    "crosstab_inc_day.to_clipboard()"
   ]
  },
  {
   "cell_type": "code",
   "execution_count": 19,
   "id": "681aaa57",
   "metadata": {},
   "outputs": [],
   "source": [
    "#family status-dept id\n",
    "crosstab_fam_dept = pd.crosstab(df_new['fam_status'], df_new['department_id'], dropna = False)\n",
    "crosstab_fam_dept.to_clipboard()"
   ]
  },
  {
   "cell_type": "code",
   "execution_count": 20,
   "id": "f59fba5a",
   "metadata": {},
   "outputs": [],
   "source": [
    "#Family status that spends the most\n",
    "crosstab_fam_spend = pd.crosstab(df_new['prices'].sum(), df_new['fam_status'], dropna = False)\n",
    "crosstab_fam_spend.to_clipboard()\n"
   ]
  },
  {
   "cell_type": "code",
   "execution_count": 24,
   "id": "b23a0348",
   "metadata": {},
   "outputs": [],
   "source": [
    "#Fam status-day\n",
    "crosstab_fam_day = pd.crosstab(df_new['fam_status'], df_new['order_day_of_week'], dropna = False)\n",
    "crosstab_fam_day.to_clipboard()"
   ]
  },
  {
   "cell_type": "code",
   "execution_count": 25,
   "id": "735badcd",
   "metadata": {},
   "outputs": [],
   "source": [
    "#Dept that generated most revenue\n",
    "crosstab_price_dept = pd.crosstab(df_new['prices'].sum(), df_new['department_id'], dropna = False)\n",
    "crosstab_price_dept.to_clipboard()"
   ]
  },
  {
   "cell_type": "code",
   "execution_count": 26,
   "id": "6770521f",
   "metadata": {},
   "outputs": [],
   "source": [
    "#Customer frequency spending more\n",
    "crosstab_freq_spend = pd.crosstab(df_new['prices'].sum(), df_new['frequency'], dropna = False)\n",
    "crosstab_freq_spend.to_clipboard()"
   ]
  },
  {
   "cell_type": "code",
   "execution_count": 29,
   "id": "0e3bab88",
   "metadata": {},
   "outputs": [],
   "source": [
    "#customer frequency determine items purchased\n",
    "crosstab_freq_dept = pd.crosstab(df_new['department_id'], df_new['frequency'], dropna = False)\n",
    "crosstab_freq_dept.to_clipboard()"
   ]
  },
  {
   "cell_type": "code",
   "execution_count": 45,
   "id": "b073b5d6",
   "metadata": {},
   "outputs": [],
   "source": [
    "#Family size spending habits\n",
    "crosstab_family_spend = pd.crosstab(df_new['prices'].sum(), df_new['n_dependants'], dropna = False)\n",
    "crosstab_family_spend.to_clipboard()"
   ]
  },
  {
   "cell_type": "code",
   "execution_count": 28,
   "id": "415496d6",
   "metadata": {},
   "outputs": [],
   "source": [
    "#Key departments with n_dependants\n",
    "crosstab_depend_dept = pd.crosstab(df_new['department_id'], df_new['n_dependants'], dropna = False)\n",
    "crosstab_depend_dept.to_clipboard()"
   ]
  },
  {
   "cell_type": "code",
   "execution_count": 15,
   "id": "fb9db4c7",
   "metadata": {},
   "outputs": [
    {
     "name": "stderr",
     "output_type": "stream",
     "text": [
      "C:\\Users\\18179\\anaconda3\\lib\\site-packages\\pandas\\core\\indexing.py:1599: SettingWithCopyWarning: \n",
      "A value is trying to be set on a copy of a slice from a DataFrame.\n",
      "Try using .loc[row_indexer,col_indexer] = value instead\n",
      "\n",
      "See the caveats in the documentation: https://pandas.pydata.org/pandas-docs/stable/user_guide/indexing.html#returning-a-view-versus-a-copy\n",
      "  self.obj[key] = infer_fill_value(value)\n",
      "C:\\Users\\18179\\anaconda3\\lib\\site-packages\\pandas\\core\\indexing.py:1720: SettingWithCopyWarning: \n",
      "A value is trying to be set on a copy of a slice from a DataFrame.\n",
      "Try using .loc[row_indexer,col_indexer] = value instead\n",
      "\n",
      "See the caveats in the documentation: https://pandas.pydata.org/pandas-docs/stable/user_guide/indexing.html#returning-a-view-versus-a-copy\n",
      "  self._setitem_single_column(loc, value, pi)\n",
      "C:\\Users\\18179\\anaconda3\\lib\\site-packages\\pandas\\core\\indexing.py:1720: SettingWithCopyWarning: \n",
      "A value is trying to be set on a copy of a slice from a DataFrame.\n",
      "Try using .loc[row_indexer,col_indexer] = value instead\n",
      "\n",
      "See the caveats in the documentation: https://pandas.pydata.org/pandas-docs/stable/user_guide/indexing.html#returning-a-view-versus-a-copy\n",
      "  self._setitem_single_column(loc, value, pi)\n",
      "C:\\Users\\18179\\anaconda3\\lib\\site-packages\\pandas\\core\\indexing.py:1720: SettingWithCopyWarning: \n",
      "A value is trying to be set on a copy of a slice from a DataFrame.\n",
      "Try using .loc[row_indexer,col_indexer] = value instead\n",
      "\n",
      "See the caveats in the documentation: https://pandas.pydata.org/pandas-docs/stable/user_guide/indexing.html#returning-a-view-versus-a-copy\n",
      "  self._setitem_single_column(loc, value, pi)\n"
     ]
    }
   ],
   "source": [
    "#Flag income level\n",
    "df_new.loc[df_new['income'] <= 50000, 'income_level'] = 'low_income'\n",
    "df_new.loc[(df_new['income'] <=100000) & (df_new['income'] > 50000), 'income_level'] = 'mid_income'\n",
    "df_new.loc[df_new['income'] > 100000, 'income_level'] = 'high_income'"
   ]
  },
  {
   "cell_type": "code",
   "execution_count": 16,
   "id": "a87bd868",
   "metadata": {},
   "outputs": [
    {
     "data": {
      "text/html": [
       "<div>\n",
       "<style scoped>\n",
       "    .dataframe tbody tr th:only-of-type {\n",
       "        vertical-align: middle;\n",
       "    }\n",
       "\n",
       "    .dataframe tbody tr th {\n",
       "        vertical-align: top;\n",
       "    }\n",
       "\n",
       "    .dataframe thead th {\n",
       "        text-align: right;\n",
       "    }\n",
       "</style>\n",
       "<table border=\"1\" class=\"dataframe\">\n",
       "  <thead>\n",
       "    <tr style=\"text-align: right;\">\n",
       "      <th></th>\n",
       "      <th>order_id</th>\n",
       "      <th>user_id</th>\n",
       "      <th>order_number</th>\n",
       "      <th>order_day_of_week</th>\n",
       "      <th>order_hour_of_day</th>\n",
       "      <th>days_since_prior_order</th>\n",
       "      <th>product_id</th>\n",
       "      <th>add_to_cart_order</th>\n",
       "      <th>reordered</th>\n",
       "      <th>product_name</th>\n",
       "      <th>...</th>\n",
       "      <th>Gender</th>\n",
       "      <th>State</th>\n",
       "      <th>Age</th>\n",
       "      <th>date_joined</th>\n",
       "      <th>n_dependants</th>\n",
       "      <th>fam_status</th>\n",
       "      <th>income</th>\n",
       "      <th>Region</th>\n",
       "      <th>activity</th>\n",
       "      <th>income_level</th>\n",
       "    </tr>\n",
       "  </thead>\n",
       "  <tbody>\n",
       "    <tr>\n",
       "      <th>32404850</th>\n",
       "      <td>3308056</td>\n",
       "      <td>106143</td>\n",
       "      <td>22</td>\n",
       "      <td>4</td>\n",
       "      <td>20</td>\n",
       "      <td>10.0</td>\n",
       "      <td>19675</td>\n",
       "      <td>1</td>\n",
       "      <td>1</td>\n",
       "      <td>Organic Raspberry Black Tea</td>\n",
       "      <td>...</td>\n",
       "      <td>Male</td>\n",
       "      <td>Hawaii</td>\n",
       "      <td>25</td>\n",
       "      <td>5/26/2017</td>\n",
       "      <td>0</td>\n",
       "      <td>single</td>\n",
       "      <td>53755</td>\n",
       "      <td>West</td>\n",
       "      <td>high</td>\n",
       "      <td>mid_income</td>\n",
       "    </tr>\n",
       "    <tr>\n",
       "      <th>32404851</th>\n",
       "      <td>2988973</td>\n",
       "      <td>106143</td>\n",
       "      <td>23</td>\n",
       "      <td>2</td>\n",
       "      <td>22</td>\n",
       "      <td>5.0</td>\n",
       "      <td>19675</td>\n",
       "      <td>1</td>\n",
       "      <td>1</td>\n",
       "      <td>Organic Raspberry Black Tea</td>\n",
       "      <td>...</td>\n",
       "      <td>Male</td>\n",
       "      <td>Hawaii</td>\n",
       "      <td>25</td>\n",
       "      <td>5/26/2017</td>\n",
       "      <td>0</td>\n",
       "      <td>single</td>\n",
       "      <td>53755</td>\n",
       "      <td>West</td>\n",
       "      <td>high</td>\n",
       "      <td>mid_income</td>\n",
       "    </tr>\n",
       "    <tr>\n",
       "      <th>32404852</th>\n",
       "      <td>930</td>\n",
       "      <td>106143</td>\n",
       "      <td>24</td>\n",
       "      <td>6</td>\n",
       "      <td>12</td>\n",
       "      <td>4.0</td>\n",
       "      <td>19675</td>\n",
       "      <td>1</td>\n",
       "      <td>1</td>\n",
       "      <td>Organic Raspberry Black Tea</td>\n",
       "      <td>...</td>\n",
       "      <td>Male</td>\n",
       "      <td>Hawaii</td>\n",
       "      <td>25</td>\n",
       "      <td>5/26/2017</td>\n",
       "      <td>0</td>\n",
       "      <td>single</td>\n",
       "      <td>53755</td>\n",
       "      <td>West</td>\n",
       "      <td>high</td>\n",
       "      <td>mid_income</td>\n",
       "    </tr>\n",
       "    <tr>\n",
       "      <th>32404853</th>\n",
       "      <td>467253</td>\n",
       "      <td>106143</td>\n",
       "      <td>25</td>\n",
       "      <td>6</td>\n",
       "      <td>16</td>\n",
       "      <td>7.0</td>\n",
       "      <td>19675</td>\n",
       "      <td>1</td>\n",
       "      <td>1</td>\n",
       "      <td>Organic Raspberry Black Tea</td>\n",
       "      <td>...</td>\n",
       "      <td>Male</td>\n",
       "      <td>Hawaii</td>\n",
       "      <td>25</td>\n",
       "      <td>5/26/2017</td>\n",
       "      <td>0</td>\n",
       "      <td>single</td>\n",
       "      <td>53755</td>\n",
       "      <td>West</td>\n",
       "      <td>high</td>\n",
       "      <td>mid_income</td>\n",
       "    </tr>\n",
       "    <tr>\n",
       "      <th>32404854</th>\n",
       "      <td>156685</td>\n",
       "      <td>106143</td>\n",
       "      <td>26</td>\n",
       "      <td>4</td>\n",
       "      <td>23</td>\n",
       "      <td>5.0</td>\n",
       "      <td>19675</td>\n",
       "      <td>1</td>\n",
       "      <td>1</td>\n",
       "      <td>Organic Raspberry Black Tea</td>\n",
       "      <td>...</td>\n",
       "      <td>Male</td>\n",
       "      <td>Hawaii</td>\n",
       "      <td>25</td>\n",
       "      <td>5/26/2017</td>\n",
       "      <td>0</td>\n",
       "      <td>single</td>\n",
       "      <td>53755</td>\n",
       "      <td>West</td>\n",
       "      <td>high</td>\n",
       "      <td>mid_income</td>\n",
       "    </tr>\n",
       "  </tbody>\n",
       "</table>\n",
       "<p>5 rows × 35 columns</p>\n",
       "</div>"
      ],
      "text/plain": [
       "          order_id  user_id  order_number  order_day_of_week  \\\n",
       "32404850   3308056   106143            22                  4   \n",
       "32404851   2988973   106143            23                  2   \n",
       "32404852       930   106143            24                  6   \n",
       "32404853    467253   106143            25                  6   \n",
       "32404854    156685   106143            26                  4   \n",
       "\n",
       "          order_hour_of_day  days_since_prior_order  product_id  \\\n",
       "32404850                 20                    10.0       19675   \n",
       "32404851                 22                     5.0       19675   \n",
       "32404852                 12                     4.0       19675   \n",
       "32404853                 16                     7.0       19675   \n",
       "32404854                 23                     5.0       19675   \n",
       "\n",
       "          add_to_cart_order  reordered                 product_name  ...  \\\n",
       "32404850                  1          1  Organic Raspberry Black Tea  ...   \n",
       "32404851                  1          1  Organic Raspberry Black Tea  ...   \n",
       "32404852                  1          1  Organic Raspberry Black Tea  ...   \n",
       "32404853                  1          1  Organic Raspberry Black Tea  ...   \n",
       "32404854                  1          1  Organic Raspberry Black Tea  ...   \n",
       "\n",
       "          Gender   State  Age date_joined n_dependants fam_status income  \\\n",
       "32404850    Male  Hawaii   25   5/26/2017            0     single  53755   \n",
       "32404851    Male  Hawaii   25   5/26/2017            0     single  53755   \n",
       "32404852    Male  Hawaii   25   5/26/2017            0     single  53755   \n",
       "32404853    Male  Hawaii   25   5/26/2017            0     single  53755   \n",
       "32404854    Male  Hawaii   25   5/26/2017            0     single  53755   \n",
       "\n",
       "          Region activity  income_level  \n",
       "32404850    West     high    mid_income  \n",
       "32404851    West     high    mid_income  \n",
       "32404852    West     high    mid_income  \n",
       "32404853    West     high    mid_income  \n",
       "32404854    West     high    mid_income  \n",
       "\n",
       "[5 rows x 35 columns]"
      ]
     },
     "execution_count": 16,
     "metadata": {},
     "output_type": "execute_result"
    }
   ],
   "source": [
    "df_new.tail()"
   ]
  },
  {
   "cell_type": "code",
   "execution_count": 17,
   "id": "1a834155",
   "metadata": {},
   "outputs": [
    {
     "data": {
      "text/plain": [
       "high_income    13863645\n",
       "mid_income     13058945\n",
       "low_income      3248834\n",
       "Name: income_level, dtype: int64"
      ]
     },
     "execution_count": 17,
     "metadata": {},
     "output_type": "execute_result"
    }
   ],
   "source": [
    "df_new['income_level'].value_counts(dropna = False)"
   ]
  },
  {
   "cell_type": "code",
   "execution_count": 18,
   "id": "a0aaae25",
   "metadata": {},
   "outputs": [
    {
     "data": {
      "text/plain": [
       "99999.0"
      ]
     },
     "execution_count": 18,
     "metadata": {},
     "output_type": "execute_result"
    }
   ],
   "source": [
    "#double check prices, looks like 4.9 fix did not save, but scatterplot visualization is OK. \n",
    "df['prices'].max()"
   ]
  },
  {
   "cell_type": "code",
   "execution_count": 19,
   "id": "87dfa3b3",
   "metadata": {},
   "outputs": [
    {
     "name": "stderr",
     "output_type": "stream",
     "text": [
      "C:\\Users\\18179\\anaconda3\\lib\\site-packages\\pandas\\core\\indexing.py:1720: SettingWithCopyWarning: \n",
      "A value is trying to be set on a copy of a slice from a DataFrame.\n",
      "Try using .loc[row_indexer,col_indexer] = value instead\n",
      "\n",
      "See the caveats in the documentation: https://pandas.pydata.org/pandas-docs/stable/user_guide/indexing.html#returning-a-view-versus-a-copy\n",
      "  self._setitem_single_column(loc, value, pi)\n"
     ]
    }
   ],
   "source": [
    "#Fix prices that are too high. This was done in previous exercise but wanted to make sure, \n",
    "\n",
    "df_new.loc[df_new['prices'] > 100, 'prices'] = np.nan"
   ]
  },
  {
   "cell_type": "code",
   "execution_count": 20,
   "id": "dbbccdc5",
   "metadata": {},
   "outputs": [
    {
     "data": {
      "text/plain": [
       "99999.0"
      ]
     },
     "execution_count": 20,
     "metadata": {},
     "output_type": "execute_result"
    }
   ],
   "source": [
    "#Check, Suggested formula seems to set individual prices. \n",
    "df['prices'].max()"
   ]
  },
  {
   "cell_type": "code",
   "execution_count": 21,
   "id": "aecde120",
   "metadata": {},
   "outputs": [],
   "source": [
    "#income level-spending\n",
    "\n",
    "crosstab_inc_lev_spend = pd.crosstab(df_new['prices'].mean(), df_new['income_level'])\n",
    "crosstab_inc_lev_spend.to_clipboard()"
   ]
  },
  {
   "cell_type": "code",
   "execution_count": 22,
   "id": "ba076805",
   "metadata": {},
   "outputs": [],
   "source": [
    "#6a. Create visualizations. Import visualization libraries.\n",
    "\n",
    "import matplotlib.pyplot as plt\n",
    "import seaborn as sns\n",
    "import scipy"
   ]
  },
  {
   "cell_type": "code",
   "execution_count": 23,
   "id": "2924a7e7",
   "metadata": {},
   "outputs": [
    {
     "data": {
      "text/plain": [
       "<AxesSubplot:xlabel='prices', ylabel='prices'>"
      ]
     },
     "execution_count": 23,
     "metadata": {},
     "output_type": "execute_result"
    },
    {
     "data": {
      "image/png": "[encoded data removed]",
      "text/plain": [
       "<Figure size 432x288 with 1 Axes>"
      ]
     },
     "metadata": {
      "needs_background": "light"
     },
     "output_type": "display_data"
    }
   ],
   "source": [
    "#See what price check visualization looks like. Max price is OK. \n",
    "sns.scatterplot(x= 'prices', y = 'prices', data = df_new)"
   ]
  },
  {
   "cell_type": "code",
   "execution_count": 24,
   "id": "94fe146a",
   "metadata": {},
   "outputs": [],
   "source": [
    "#Assign random numbers, create list of true/ false values \n",
    "\n",
    "dev = np.random.rand(len(df_new)) <= 0.7"
   ]
  },
  {
   "cell_type": "code",
   "execution_count": 25,
   "id": "0fa4afed",
   "metadata": {},
   "outputs": [],
   "source": [
    "#Store 70% in big\n",
    "\n",
    "big = df_new[dev]"
   ]
  },
  {
   "cell_type": "code",
   "execution_count": 26,
   "id": "90cbfed8",
   "metadata": {},
   "outputs": [],
   "source": [
    "#store rest in small\n",
    "\n",
    "small = df_new[~dev]"
   ]
  },
  {
   "cell_type": "code",
   "execution_count": 30,
   "id": "64bab612",
   "metadata": {},
   "outputs": [
    {
     "data": {
      "image/png": "[encoded data removed]",
      "text/plain": [
       "<Figure size 432x288 with 1 Axes>"
      ]
     },
     "metadata": {
      "needs_background": "light"
     },
     "output_type": "display_data"
    }
   ],
   "source": [
    "#Customer Loyalty\n",
    "\n",
    "loyal_bar = df_new['loyalty_flag'].value_counts().plot.bar(color = ['green', 'orange', 'red'])"
   ]
  },
  {
   "cell_type": "code",
   "execution_count": 32,
   "id": "e0f376ff",
   "metadata": {},
   "outputs": [],
   "source": [
    "#Save graph\n",
    "\n",
    "loyal_bar.figure.savefig(os.path.join(r\"C:\\Users\\18179\\Documents\\CareerFoundry\\InstaCart Basket Analysis\\04 Analysis\\Visualizations\", 'Loyal_bar.png'))"
   ]
  },
  {
   "cell_type": "code",
   "execution_count": 33,
   "id": "ac571706",
   "metadata": {},
   "outputs": [],
   "source": [
    "#Subgroup Loyalty, department id\n",
    "\n",
    "loyalty_dept_bar = df_new.groupby(['department_id', 'loyalty_flag'])['department_id'].count().unstack('loyalty_flag').fillna(0)"
   ]
  },
  {
   "cell_type": "code",
   "execution_count": 86,
   "id": "11c62151",
   "metadata": {},
   "outputs": [
    {
     "ename": "AttributeError",
     "evalue": "'list' object has no attribute 'plot'",
     "output_type": "error",
     "traceback": [
      "\u001b[1;31m---------------------------------------------------------------------------\u001b[0m",
      "\u001b[1;31mAttributeError\u001b[0m                            Traceback (most recent call last)",
      "\u001b[1;32m<ipython-input-86-810e03b09f21>\u001b[0m in \u001b[0;36m<module>\u001b[1;34m\u001b[0m\n\u001b[1;32m----> 1\u001b[1;33m \u001b[0mloyalty_dept_bar\u001b[0m \u001b[1;33m=\u001b[0m \u001b[0mloyalty_dept_bar\u001b[0m\u001b[1;33m.\u001b[0m\u001b[0mplot\u001b[0m\u001b[1;33m.\u001b[0m\u001b[0mbar\u001b[0m\u001b[1;33m(\u001b[0m\u001b[0mstacked\u001b[0m \u001b[1;33m=\u001b[0m \u001b[1;32mTrue\u001b[0m\u001b[1;33m,\u001b[0m \u001b[0mcolor\u001b[0m \u001b[1;33m=\u001b[0m \u001b[1;33m[\u001b[0m\u001b[1;34m'orange'\u001b[0m\u001b[1;33m,\u001b[0m \u001b[1;34m'blue'\u001b[0m\u001b[1;33m,\u001b[0m \u001b[1;34m'green'\u001b[0m\u001b[1;33m]\u001b[0m\u001b[1;33m)\u001b[0m\u001b[1;33m\u001b[0m\u001b[1;33m\u001b[0m\u001b[0m\n\u001b[0m\u001b[0;32m      2\u001b[0m \u001b[0mplt\u001b[0m\u001b[1;33m.\u001b[0m\u001b[0mlegend\u001b[0m\u001b[1;33m(\u001b[0m\u001b[0mtitle\u001b[0m\u001b[1;33m=\u001b[0m\u001b[1;34m'Loyalty_Status'\u001b[0m\u001b[1;33m)\u001b[0m\u001b[1;33m\u001b[0m\u001b[1;33m\u001b[0m\u001b[0m\n",
      "\u001b[1;31mAttributeError\u001b[0m: 'list' object has no attribute 'plot'"
     ]
    }
   ],
   "source": [
    "#Edited visual of graph and got this error. Not sure how code changed to make error. Saved previous iteration just in time.\n",
    "\n",
    "loyalty_dept_bar = loyalty_dept_bar.plot.bar(stacked = True, color = ['orange', 'blue', 'green'])\n",
    "plt.legend(title='Loyalty_Status')"
   ]
  },
  {
   "cell_type": "code",
   "execution_count": 87,
   "id": "c06ec9fa",
   "metadata": {},
   "outputs": [],
   "source": [
    "#loyalty-Dept\n",
    "\n",
    "crosstab_loyalty_dept = pd.crosstab(df_new['loyalty_flag'], df_new['department_id'], dropna = False)\n"
   ]
  },
  {
   "cell_type": "code",
   "execution_count": 90,
   "id": "31c4d0cf",
   "metadata": {
    "scrolled": true
   },
   "outputs": [
    {
     "data": {
      "text/html": [
       "<div>\n",
       "<style scoped>\n",
       "    .dataframe tbody tr th:only-of-type {\n",
       "        vertical-align: middle;\n",
       "    }\n",
       "\n",
       "    .dataframe tbody tr th {\n",
       "        vertical-align: top;\n",
       "    }\n",
       "\n",
       "    .dataframe thead th {\n",
       "        text-align: right;\n",
       "    }\n",
       "</style>\n",
       "<table border=\"1\" class=\"dataframe\">\n",
       "  <thead>\n",
       "    <tr style=\"text-align: right;\">\n",
       "      <th>department_id</th>\n",
       "      <th>1</th>\n",
       "      <th>2</th>\n",
       "      <th>3</th>\n",
       "      <th>4</th>\n",
       "      <th>5</th>\n",
       "      <th>6</th>\n",
       "      <th>7</th>\n",
       "      <th>8</th>\n",
       "      <th>9</th>\n",
       "      <th>10</th>\n",
       "      <th>11</th>\n",
       "      <th>12</th>\n",
       "      <th>13</th>\n",
       "      <th>14</th>\n",
       "      <th>15</th>\n",
       "      <th>16</th>\n",
       "      <th>17</th>\n",
       "      <th>18</th>\n",
       "      <th>19</th>\n",
       "      <th>20</th>\n",
       "      <th>21</th>\n",
       "    </tr>\n",
       "    <tr>\n",
       "      <th>loyalty_flag</th>\n",
       "      <th></th>\n",
       "      <th></th>\n",
       "      <th></th>\n",
       "      <th></th>\n",
       "      <th></th>\n",
       "      <th></th>\n",
       "      <th></th>\n",
       "      <th></th>\n",
       "      <th></th>\n",
       "      <th></th>\n",
       "      <th></th>\n",
       "      <th></th>\n",
       "      <th></th>\n",
       "      <th></th>\n",
       "      <th></th>\n",
       "      <th></th>\n",
       "      <th></th>\n",
       "      <th></th>\n",
       "      <th></th>\n",
       "      <th></th>\n",
       "      <th></th>\n",
       "    </tr>\n",
       "  </thead>\n",
       "  <tbody>\n",
       "    <tr>\n",
       "      <th>Loyal customer</th>\n",
       "      <td>609460</td>\n",
       "      <td>10715</td>\n",
       "      <td>379873</td>\n",
       "      <td>3147376</td>\n",
       "      <td>38723</td>\n",
       "      <td>78394</td>\n",
       "      <td>855017</td>\n",
       "      <td>25469</td>\n",
       "      <td>242580</td>\n",
       "      <td>13834</td>\n",
       "      <td>123365</td>\n",
       "      <td>202480</td>\n",
       "      <td>560402</td>\n",
       "      <td>221577</td>\n",
       "      <td>294594</td>\n",
       "      <td>1830707</td>\n",
       "      <td>196873</td>\n",
       "      <td>167108</td>\n",
       "      <td>943150</td>\n",
       "      <td>324046</td>\n",
       "      <td>18350</td>\n",
       "    </tr>\n",
       "    <tr>\n",
       "      <th>New customer</th>\n",
       "      <td>250628</td>\n",
       "      <td>4027</td>\n",
       "      <td>115923</td>\n",
       "      <td>900269</td>\n",
       "      <td>19147</td>\n",
       "      <td>29599</td>\n",
       "      <td>267473</td>\n",
       "      <td>10937</td>\n",
       "      <td>97266</td>\n",
       "      <td>2869</td>\n",
       "      <td>50816</td>\n",
       "      <td>76005</td>\n",
       "      <td>201703</td>\n",
       "      <td>72066</td>\n",
       "      <td>122109</td>\n",
       "      <td>504120</td>\n",
       "      <td>86321</td>\n",
       "      <td>30771</td>\n",
       "      <td>279962</td>\n",
       "      <td>106929</td>\n",
       "      <td>8491</td>\n",
       "    </tr>\n",
       "    <tr>\n",
       "      <th>Regular customer</th>\n",
       "      <td>1140000</td>\n",
       "      <td>17857</td>\n",
       "      <td>568851</td>\n",
       "      <td>4595293</td>\n",
       "      <td>77275</td>\n",
       "      <td>133756</td>\n",
       "      <td>1320235</td>\n",
       "      <td>51711</td>\n",
       "      <td>434720</td>\n",
       "      <td>15468</td>\n",
       "      <td>225499</td>\n",
       "      <td>359837</td>\n",
       "      <td>922727</td>\n",
       "      <td>343094</td>\n",
       "      <td>537284</td>\n",
       "      <td>2596419</td>\n",
       "      <td>374867</td>\n",
       "      <td>196576</td>\n",
       "      <td>1410149</td>\n",
       "      <td>521453</td>\n",
       "      <td>33705</td>\n",
       "    </tr>\n",
       "  </tbody>\n",
       "</table>\n",
       "</div>"
      ],
      "text/plain": [
       "department_id          1      2       3        4      5       6        7   \\\n",
       "loyalty_flag                                                                \n",
       "Loyal customer     609460  10715  379873  3147376  38723   78394   855017   \n",
       "New customer       250628   4027  115923   900269  19147   29599   267473   \n",
       "Regular customer  1140000  17857  568851  4595293  77275  133756  1320235   \n",
       "\n",
       "department_id        8       9      10      11      12      13      14  \\\n",
       "loyalty_flag                                                             \n",
       "Loyal customer    25469  242580  13834  123365  202480  560402  221577   \n",
       "New customer      10937   97266   2869   50816   76005  201703   72066   \n",
       "Regular customer  51711  434720  15468  225499  359837  922727  343094   \n",
       "\n",
       "department_id         15       16      17      18       19      20     21  \n",
       "loyalty_flag                                                               \n",
       "Loyal customer    294594  1830707  196873  167108   943150  324046  18350  \n",
       "New customer      122109   504120   86321   30771   279962  106929   8491  \n",
       "Regular customer  537284  2596419  374867  196576  1410149  521453  33705  "
      ]
     },
     "execution_count": 90,
     "metadata": {},
     "output_type": "execute_result"
    }
   ],
   "source": [
    "#table\n",
    "crosstab_loyalty_dept\n",
    "pd.options.display.max_columns = None"
   ]
  },
  {
   "cell_type": "code",
   "execution_count": 82,
   "id": "cbb1a74c",
   "metadata": {},
   "outputs": [],
   "source": [
    "loyalty_dept_bar.figure.savefig(os.path.join(r\"C:\\Users\\18179\\Documents\\CareerFoundry\\InstaCart Basket Analysis\\04 Analysis\\Visualizations\", 'loyalty_dept_bar.png'))"
   ]
  },
  {
   "cell_type": "code",
   "execution_count": 66,
   "id": "76a132a9",
   "metadata": {},
   "outputs": [
    {
     "data": {
      "image/png": "[encoded data removed]",
      "text/plain": [
       "<Figure size 432x288 with 1 Axes>"
      ]
     },
     "metadata": {
      "needs_background": "light"
     },
     "output_type": "display_data"
    }
   ],
   "source": [
    "#Loyalty status affects amount spent\n",
    "\n",
    "loyal_price_bar = df_new['loyalty_flag'].value_counts('prices').plot.bar(color = ['green', 'orange', 'blue'])"
   ]
  },
  {
   "cell_type": "code",
   "execution_count": 67,
   "id": "aa6b4e6f",
   "metadata": {},
   "outputs": [],
   "source": [
    "loyal_price_bar.figure.savefig(os.path.join(r\"C:\\Users\\18179\\Documents\\CareerFoundry\\InstaCart Basket Analysis\\04 Analysis\\Visualizations\", 'Loyal_price_bar_1.png'))"
   ]
  },
  {
   "cell_type": "code",
   "execution_count": 42,
   "id": "c5ac02c1",
   "metadata": {},
   "outputs": [],
   "source": [
    "#loyalty-time\n",
    "\n",
    "crosstab_loyalty_time = pd.crosstab(df_new['loyalty_flag'], df_new['order_hour_of_day'], dropna = False)"
   ]
  },
  {
   "cell_type": "code",
   "execution_count": 43,
   "id": "8192c0b0",
   "metadata": {},
   "outputs": [
    {
     "data": {
      "text/html": [
       "<div>\n",
       "<style scoped>\n",
       "    .dataframe tbody tr th:only-of-type {\n",
       "        vertical-align: middle;\n",
       "    }\n",
       "\n",
       "    .dataframe tbody tr th {\n",
       "        vertical-align: top;\n",
       "    }\n",
       "\n",
       "    .dataframe thead th {\n",
       "        text-align: right;\n",
       "    }\n",
       "</style>\n",
       "<table border=\"1\" class=\"dataframe\">\n",
       "  <thead>\n",
       "    <tr style=\"text-align: right;\">\n",
       "      <th>order_hour_of_day</th>\n",
       "      <th>0</th>\n",
       "      <th>1</th>\n",
       "      <th>2</th>\n",
       "      <th>3</th>\n",
       "      <th>4</th>\n",
       "      <th>5</th>\n",
       "      <th>6</th>\n",
       "      <th>7</th>\n",
       "      <th>8</th>\n",
       "      <th>9</th>\n",
       "      <th>...</th>\n",
       "      <th>14</th>\n",
       "      <th>15</th>\n",
       "      <th>16</th>\n",
       "      <th>17</th>\n",
       "      <th>18</th>\n",
       "      <th>19</th>\n",
       "      <th>20</th>\n",
       "      <th>21</th>\n",
       "      <th>22</th>\n",
       "      <th>23</th>\n",
       "    </tr>\n",
       "    <tr>\n",
       "      <th>loyalty_flag</th>\n",
       "      <th></th>\n",
       "      <th></th>\n",
       "      <th></th>\n",
       "      <th></th>\n",
       "      <th></th>\n",
       "      <th></th>\n",
       "      <th></th>\n",
       "      <th></th>\n",
       "      <th></th>\n",
       "      <th></th>\n",
       "      <th></th>\n",
       "      <th></th>\n",
       "      <th></th>\n",
       "      <th></th>\n",
       "      <th></th>\n",
       "      <th></th>\n",
       "      <th></th>\n",
       "      <th></th>\n",
       "      <th></th>\n",
       "      <th></th>\n",
       "      <th></th>\n",
       "    </tr>\n",
       "  </thead>\n",
       "  <tbody>\n",
       "    <tr>\n",
       "      <th>Loyal customer</th>\n",
       "      <td>61748</td>\n",
       "      <td>30179</td>\n",
       "      <td>17788</td>\n",
       "      <td>13374</td>\n",
       "      <td>16882</td>\n",
       "      <td>29350</td>\n",
       "      <td>112865</td>\n",
       "      <td>346694</td>\n",
       "      <td>643895</td>\n",
       "      <td>882740</td>\n",
       "      <td>...</td>\n",
       "      <td>835162</td>\n",
       "      <td>809777</td>\n",
       "      <td>743761</td>\n",
       "      <td>584602</td>\n",
       "      <td>449336</td>\n",
       "      <td>360292</td>\n",
       "      <td>309270</td>\n",
       "      <td>264537</td>\n",
       "      <td>206150</td>\n",
       "      <td>123532</td>\n",
       "    </tr>\n",
       "    <tr>\n",
       "      <th>New customer</th>\n",
       "      <td>23384</td>\n",
       "      <td>13592</td>\n",
       "      <td>8323</td>\n",
       "      <td>6503</td>\n",
       "      <td>5858</td>\n",
       "      <td>8142</td>\n",
       "      <td>23388</td>\n",
       "      <td>69015</td>\n",
       "      <td>138944</td>\n",
       "      <td>211019</td>\n",
       "      <td>...</td>\n",
       "      <td>276416</td>\n",
       "      <td>279379</td>\n",
       "      <td>272755</td>\n",
       "      <td>231546</td>\n",
       "      <td>183080</td>\n",
       "      <td>136703</td>\n",
       "      <td>99466</td>\n",
       "      <td>75046</td>\n",
       "      <td>61895</td>\n",
       "      <td>40299</td>\n",
       "    </tr>\n",
       "    <tr>\n",
       "      <th>Regular customer</th>\n",
       "      <td>110983</td>\n",
       "      <td>58768</td>\n",
       "      <td>35662</td>\n",
       "      <td>25912</td>\n",
       "      <td>25439</td>\n",
       "      <td>42593</td>\n",
       "      <td>134247</td>\n",
       "      <td>414349</td>\n",
       "      <td>807091</td>\n",
       "      <td>1167728</td>\n",
       "      <td>...</td>\n",
       "      <td>1322794</td>\n",
       "      <td>1311906</td>\n",
       "      <td>1266185</td>\n",
       "      <td>1054224</td>\n",
       "      <td>831241</td>\n",
       "      <td>628814</td>\n",
       "      <td>474302</td>\n",
       "      <td>385986</td>\n",
       "      <td>309426</td>\n",
       "      <td>201140</td>\n",
       "    </tr>\n",
       "  </tbody>\n",
       "</table>\n",
       "<p>3 rows × 24 columns</p>\n",
       "</div>"
      ],
      "text/plain": [
       "order_hour_of_day      0      1      2      3      4      5       6       7   \\\n",
       "loyalty_flag                                                                   \n",
       "Loyal customer      61748  30179  17788  13374  16882  29350  112865  346694   \n",
       "New customer        23384  13592   8323   6503   5858   8142   23388   69015   \n",
       "Regular customer   110983  58768  35662  25912  25439  42593  134247  414349   \n",
       "\n",
       "order_hour_of_day      8        9   ...       14       15       16       17  \\\n",
       "loyalty_flag                        ...                                       \n",
       "Loyal customer     643895   882740  ...   835162   809777   743761   584602   \n",
       "New customer       138944   211019  ...   276416   279379   272755   231546   \n",
       "Regular customer   807091  1167728  ...  1322794  1311906  1266185  1054224   \n",
       "\n",
       "order_hour_of_day      18      19      20      21      22      23  \n",
       "loyalty_flag                                                       \n",
       "Loyal customer     449336  360292  309270  264537  206150  123532  \n",
       "New customer       183080  136703   99466   75046   61895   40299  \n",
       "Regular customer   831241  628814  474302  385986  309426  201140  \n",
       "\n",
       "[3 rows x 24 columns]"
      ]
     },
     "execution_count": 43,
     "metadata": {},
     "output_type": "execute_result"
    }
   ],
   "source": [
    "crosstab_loyalty_time"
   ]
  },
  {
   "cell_type": "code",
   "execution_count": 46,
   "id": "d675bed3",
   "metadata": {},
   "outputs": [
    {
     "data": {
      "text/html": [
       "<div>\n",
       "<style scoped>\n",
       "    .dataframe tbody tr th:only-of-type {\n",
       "        vertical-align: middle;\n",
       "    }\n",
       "\n",
       "    .dataframe tbody tr th {\n",
       "        vertical-align: top;\n",
       "    }\n",
       "\n",
       "    .dataframe thead th {\n",
       "        text-align: right;\n",
       "    }\n",
       "</style>\n",
       "<table border=\"1\" class=\"dataframe\">\n",
       "  <thead>\n",
       "    <tr style=\"text-align: right;\">\n",
       "      <th>loyalty_flag</th>\n",
       "      <th>Loyal customer</th>\n",
       "      <th>New customer</th>\n",
       "      <th>Regular customer</th>\n",
       "    </tr>\n",
       "    <tr>\n",
       "      <th>order_hour_of_day</th>\n",
       "      <th></th>\n",
       "      <th></th>\n",
       "      <th></th>\n",
       "    </tr>\n",
       "  </thead>\n",
       "  <tbody>\n",
       "    <tr>\n",
       "      <th>0</th>\n",
       "      <td>61748</td>\n",
       "      <td>23384</td>\n",
       "      <td>110983</td>\n",
       "    </tr>\n",
       "    <tr>\n",
       "      <th>1</th>\n",
       "      <td>30179</td>\n",
       "      <td>13592</td>\n",
       "      <td>58768</td>\n",
       "    </tr>\n",
       "    <tr>\n",
       "      <th>2</th>\n",
       "      <td>17788</td>\n",
       "      <td>8323</td>\n",
       "      <td>35662</td>\n",
       "    </tr>\n",
       "    <tr>\n",
       "      <th>3</th>\n",
       "      <td>13374</td>\n",
       "      <td>6503</td>\n",
       "      <td>25912</td>\n",
       "    </tr>\n",
       "    <tr>\n",
       "      <th>4</th>\n",
       "      <td>16882</td>\n",
       "      <td>5858</td>\n",
       "      <td>25439</td>\n",
       "    </tr>\n",
       "    <tr>\n",
       "      <th>5</th>\n",
       "      <td>29350</td>\n",
       "      <td>8142</td>\n",
       "      <td>42593</td>\n",
       "    </tr>\n",
       "    <tr>\n",
       "      <th>6</th>\n",
       "      <td>112865</td>\n",
       "      <td>23388</td>\n",
       "      <td>134247</td>\n",
       "    </tr>\n",
       "    <tr>\n",
       "      <th>7</th>\n",
       "      <td>346694</td>\n",
       "      <td>69015</td>\n",
       "      <td>414349</td>\n",
       "    </tr>\n",
       "    <tr>\n",
       "      <th>8</th>\n",
       "      <td>643895</td>\n",
       "      <td>138944</td>\n",
       "      <td>807091</td>\n",
       "    </tr>\n",
       "    <tr>\n",
       "      <th>9</th>\n",
       "      <td>882740</td>\n",
       "      <td>211019</td>\n",
       "      <td>1167728</td>\n",
       "    </tr>\n",
       "    <tr>\n",
       "      <th>10</th>\n",
       "      <td>937669</td>\n",
       "      <td>259560</td>\n",
       "      <td>1329666</td>\n",
       "    </tr>\n",
       "    <tr>\n",
       "      <th>11</th>\n",
       "      <td>873024</td>\n",
       "      <td>271983</td>\n",
       "      <td>1339172</td>\n",
       "    </tr>\n",
       "    <tr>\n",
       "      <th>12</th>\n",
       "      <td>807001</td>\n",
       "      <td>266072</td>\n",
       "      <td>1294184</td>\n",
       "    </tr>\n",
       "    <tr>\n",
       "      <th>13</th>\n",
       "      <td>824465</td>\n",
       "      <td>275063</td>\n",
       "      <td>1304964</td>\n",
       "    </tr>\n",
       "    <tr>\n",
       "      <th>14</th>\n",
       "      <td>835162</td>\n",
       "      <td>276416</td>\n",
       "      <td>1322794</td>\n",
       "    </tr>\n",
       "    <tr>\n",
       "      <th>15</th>\n",
       "      <td>809777</td>\n",
       "      <td>279379</td>\n",
       "      <td>1311906</td>\n",
       "    </tr>\n",
       "    <tr>\n",
       "      <th>16</th>\n",
       "      <td>743761</td>\n",
       "      <td>272755</td>\n",
       "      <td>1266185</td>\n",
       "    </tr>\n",
       "    <tr>\n",
       "      <th>17</th>\n",
       "      <td>584602</td>\n",
       "      <td>231546</td>\n",
       "      <td>1054224</td>\n",
       "    </tr>\n",
       "    <tr>\n",
       "      <th>18</th>\n",
       "      <td>449336</td>\n",
       "      <td>183080</td>\n",
       "      <td>831241</td>\n",
       "    </tr>\n",
       "    <tr>\n",
       "      <th>19</th>\n",
       "      <td>360292</td>\n",
       "      <td>136703</td>\n",
       "      <td>628814</td>\n",
       "    </tr>\n",
       "    <tr>\n",
       "      <th>20</th>\n",
       "      <td>309270</td>\n",
       "      <td>99466</td>\n",
       "      <td>474302</td>\n",
       "    </tr>\n",
       "    <tr>\n",
       "      <th>21</th>\n",
       "      <td>264537</td>\n",
       "      <td>75046</td>\n",
       "      <td>385986</td>\n",
       "    </tr>\n",
       "    <tr>\n",
       "      <th>22</th>\n",
       "      <td>206150</td>\n",
       "      <td>61895</td>\n",
       "      <td>309426</td>\n",
       "    </tr>\n",
       "    <tr>\n",
       "      <th>23</th>\n",
       "      <td>123532</td>\n",
       "      <td>40299</td>\n",
       "      <td>201140</td>\n",
       "    </tr>\n",
       "  </tbody>\n",
       "</table>\n",
       "</div>"
      ],
      "text/plain": [
       "loyalty_flag       Loyal customer  New customer  Regular customer\n",
       "order_hour_of_day                                                \n",
       "0                           61748         23384            110983\n",
       "1                           30179         13592             58768\n",
       "2                           17788          8323             35662\n",
       "3                           13374          6503             25912\n",
       "4                           16882          5858             25439\n",
       "5                           29350          8142             42593\n",
       "6                          112865         23388            134247\n",
       "7                          346694         69015            414349\n",
       "8                          643895        138944            807091\n",
       "9                          882740        211019           1167728\n",
       "10                         937669        259560           1329666\n",
       "11                         873024        271983           1339172\n",
       "12                         807001        266072           1294184\n",
       "13                         824465        275063           1304964\n",
       "14                         835162        276416           1322794\n",
       "15                         809777        279379           1311906\n",
       "16                         743761        272755           1266185\n",
       "17                         584602        231546           1054224\n",
       "18                         449336        183080            831241\n",
       "19                         360292        136703            628814\n",
       "20                         309270         99466            474302\n",
       "21                         264537         75046            385986\n",
       "22                         206150         61895            309426\n",
       "23                         123532         40299            201140"
      ]
     },
     "execution_count": 46,
     "metadata": {},
     "output_type": "execute_result"
    }
   ],
   "source": [
    "crosstab_loyalty_time.T"
   ]
  },
  {
   "cell_type": "code",
   "execution_count": 47,
   "id": "d05b66ec",
   "metadata": {},
   "outputs": [],
   "source": [
    "crosstab_loyalty_time_T = crosstab_loyalty_time.T"
   ]
  },
  {
   "cell_type": "code",
   "execution_count": 44,
   "id": "4da31277",
   "metadata": {},
   "outputs": [],
   "source": [
    "crosstab_loyalty_time.to_clipboard()"
   ]
  },
  {
   "cell_type": "code",
   "execution_count": 69,
   "id": "b4015eca",
   "metadata": {},
   "outputs": [
    {
     "data": {
      "text/plain": [
       "<matplotlib.legend.Legend at 0x1591ec38a60>"
      ]
     },
     "execution_count": 69,
     "metadata": {},
     "output_type": "execute_result"
    },
    {
     "data": {
      "image/png": "[encoded data removed]",
      "text/plain": [
       "<Figure size 432x288 with 1 Axes>"
      ]
     },
     "metadata": {
      "needs_background": "light"
     },
     "output_type": "display_data"
    }
   ],
   "source": [
    "loyalty_time_bar_T = crosstab_loyalty_time_T.plot.bar(stacked= True, color = ['orange', 'blue', 'green'])\n",
    "plt.legend(title='Loyalty_Status')"
   ]
  },
  {
   "cell_type": "code",
   "execution_count": 70,
   "id": "fea1cd63",
   "metadata": {},
   "outputs": [],
   "source": [
    "loyalty_time_bar_T.figure.savefig(os.path.join(r\"C:\\Users\\18179\\Documents\\CareerFoundry\\InstaCart Basket Analysis\\04 Analysis\\Visualizations\", 'loyalty_time_bar_1.png'))"
   ]
  },
  {
   "cell_type": "code",
   "execution_count": 54,
   "id": "8b0fd682",
   "metadata": {},
   "outputs": [],
   "source": [
    "#Loyalty ordering habits-Day\n",
    "\n",
    "crosstab_loyal_day = pd.crosstab(df_new['loyalty_flag'], df_new['order_day_of_week'], dropna = False)\n",
    "crosstab_loyal_day.to_clipboard()"
   ]
  },
  {
   "cell_type": "code",
   "execution_count": 57,
   "id": "966f7c26",
   "metadata": {},
   "outputs": [
    {
     "data": {
      "text/html": [
       "<div>\n",
       "<style scoped>\n",
       "    .dataframe tbody tr th:only-of-type {\n",
       "        vertical-align: middle;\n",
       "    }\n",
       "\n",
       "    .dataframe tbody tr th {\n",
       "        vertical-align: top;\n",
       "    }\n",
       "\n",
       "    .dataframe thead th {\n",
       "        text-align: right;\n",
       "    }\n",
       "</style>\n",
       "<table border=\"1\" class=\"dataframe\">\n",
       "  <thead>\n",
       "    <tr style=\"text-align: right;\">\n",
       "      <th>loyalty_flag</th>\n",
       "      <th>Loyal customer</th>\n",
       "      <th>New customer</th>\n",
       "      <th>Regular customer</th>\n",
       "    </tr>\n",
       "    <tr>\n",
       "      <th>order_day_of_week</th>\n",
       "      <th></th>\n",
       "      <th></th>\n",
       "      <th></th>\n",
       "    </tr>\n",
       "  </thead>\n",
       "  <tbody>\n",
       "    <tr>\n",
       "      <th>0</th>\n",
       "      <td>1754731</td>\n",
       "      <td>664254</td>\n",
       "      <td>3169000</td>\n",
       "    </tr>\n",
       "    <tr>\n",
       "      <th>1</th>\n",
       "      <td>1843401</td>\n",
       "      <td>554270</td>\n",
       "      <td>2749383</td>\n",
       "    </tr>\n",
       "    <tr>\n",
       "      <th>2</th>\n",
       "      <td>1352343</td>\n",
       "      <td>417883</td>\n",
       "      <td>2047075</td>\n",
       "    </tr>\n",
       "    <tr>\n",
       "      <th>3</th>\n",
       "      <td>1266495</td>\n",
       "      <td>380104</td>\n",
       "      <td>1842622</td>\n",
       "    </tr>\n",
       "    <tr>\n",
       "      <th>4</th>\n",
       "      <td>1292042</td>\n",
       "      <td>361768</td>\n",
       "      <td>1797021</td>\n",
       "    </tr>\n",
       "    <tr>\n",
       "      <th>5</th>\n",
       "      <td>1456715</td>\n",
       "      <td>398027</td>\n",
       "      <td>1989296</td>\n",
       "    </tr>\n",
       "    <tr>\n",
       "      <th>6</th>\n",
       "      <td>1318366</td>\n",
       "      <td>461125</td>\n",
       "      <td>2282379</td>\n",
       "    </tr>\n",
       "  </tbody>\n",
       "</table>\n",
       "</div>"
      ],
      "text/plain": [
       "loyalty_flag       Loyal customer  New customer  Regular customer\n",
       "order_day_of_week                                                \n",
       "0                         1754731        664254           3169000\n",
       "1                         1843401        554270           2749383\n",
       "2                         1352343        417883           2047075\n",
       "3                         1266495        380104           1842622\n",
       "4                         1292042        361768           1797021\n",
       "5                         1456715        398027           1989296\n",
       "6                         1318366        461125           2282379"
      ]
     },
     "execution_count": 57,
     "metadata": {},
     "output_type": "execute_result"
    }
   ],
   "source": [
    "crosstab_loyal_day.T"
   ]
  },
  {
   "cell_type": "code",
   "execution_count": 58,
   "id": "626c6636",
   "metadata": {},
   "outputs": [],
   "source": [
    "#save transposed\n",
    "\n",
    "crosstab_loyal_day_T=crosstab_loyal_day.T"
   ]
  },
  {
   "cell_type": "code",
   "execution_count": 71,
   "id": "0317edb4",
   "metadata": {},
   "outputs": [
    {
     "data": {
      "text/plain": [
       "<matplotlib.legend.Legend at 0x1591f3181c0>"
      ]
     },
     "execution_count": 71,
     "metadata": {},
     "output_type": "execute_result"
    },
    {
     "data": {
      "image/png": "[encoded data removed]",
      "text/plain": [
       "<Figure size 432x288 with 1 Axes>"
      ]
     },
     "metadata": {
      "needs_background": "light"
     },
     "output_type": "display_data"
    }
   ],
   "source": [
    "loyalty_day_bar = crosstab_loyal_day_T.plot.bar(stacked= True, color = ['orange', 'blue', 'green'])\n",
    "plt.legend(title='Loyalty_Status')"
   ]
  },
  {
   "cell_type": "code",
   "execution_count": null,
   "id": "1133962a",
   "metadata": {},
   "outputs": [],
   "source": []
  },
  {
   "cell_type": "code",
   "execution_count": 72,
   "id": "211c9226",
   "metadata": {},
   "outputs": [],
   "source": [
    "loyalty_day_bar.figure.savefig(os.path.join(r\"C:\\Users\\18179\\Documents\\CareerFoundry\\InstaCart Basket Analysis\\04 Analysis\\Visualizations\", 'loyalty_day_bar.png'))"
   ]
  },
  {
   "cell_type": "code",
   "execution_count": null,
   "id": "db327caf",
   "metadata": {},
   "outputs": [],
   "source": []
  },
  {
   "cell_type": "code",
   "execution_count": 191,
   "id": "3d726daf",
   "metadata": {},
   "outputs": [
    {
     "data": {
      "image/png": "[encoded data removed]",
      "text/plain": [
       "<Figure size 432x288 with 1 Axes>"
      ]
     },
     "metadata": {
      "needs_background": "light"
     },
     "output_type": "display_data"
    }
   ],
   "source": [
    "#Crosstab region-population\n",
    "\n",
    "region_users_bar = df_new['Region'].value_counts('prices').plot.bar(color = ['green', 'orange', 'blue', 'red'])"
   ]
  },
  {
   "cell_type": "code",
   "execution_count": 193,
   "id": "29d1a10e",
   "metadata": {},
   "outputs": [],
   "source": [
    "#save chart\n",
    "\n",
    "region_users_bar.figure.savefig(os.path.join(r\"C:\\Users\\18179\\Documents\\CareerFoundry\\InstaCart Basket Analysis\\04 Analysis\\Visualizations\", 'region_user_bar.png'))"
   ]
  },
  {
   "cell_type": "code",
   "execution_count": 95,
   "id": "a41e99f8",
   "metadata": {},
   "outputs": [
    {
     "data": {
      "image/png": "[encoded data removed]",
      "text/plain": [
       "<Figure size 432x288 with 1 Axes>"
      ]
     },
     "metadata": {
      "needs_background": "light"
     },
     "output_type": "display_data"
    }
   ],
   "source": [
    "#Loyalty status affects amount spent\n",
    "\n",
    "region_price_bar = df_new['Region'].value_counts('prices').plot.bar(color = ['green', 'orange', 'blue', 'red'])"
   ]
  },
  {
   "cell_type": "code",
   "execution_count": 96,
   "id": "f917d0d8",
   "metadata": {},
   "outputs": [],
   "source": [
    "region_price_bar.figure.savefig(os.path.join(r\"C:\\Users\\18179\\Documents\\CareerFoundry\\InstaCart Basket Analysis\\04 Analysis\\Visualizations\", 'region_price_bar.png'))"
   ]
  },
  {
   "cell_type": "code",
   "execution_count": 97,
   "id": "3b5e61ea",
   "metadata": {},
   "outputs": [],
   "source": [
    "#Region- Order hour\n",
    "\n",
    "crosstab_region_time = pd.crosstab(df_new['Region'], df_new['order_hour_of_day'], dropna = False)"
   ]
  },
  {
   "cell_type": "code",
   "execution_count": 101,
   "id": "2c1806d7",
   "metadata": {},
   "outputs": [],
   "source": [
    "crosstab_region_time.T\n",
    "crosstab_region_time_T.to_clipboard()"
   ]
  },
  {
   "cell_type": "code",
   "execution_count": 99,
   "id": "16b8f5a6",
   "metadata": {},
   "outputs": [],
   "source": [
    "crosstab_region_time_T = crosstab_region_time.T"
   ]
  },
  {
   "cell_type": "code",
   "execution_count": 103,
   "id": "938a66b8",
   "metadata": {},
   "outputs": [
    {
     "data": {
      "text/plain": [
       "<matplotlib.legend.Legend at 0x1591f286d30>"
      ]
     },
     "execution_count": 103,
     "metadata": {},
     "output_type": "execute_result"
    },
    {
     "data": {
      "image/png": "[encoded data removed]",
      "text/plain": [
       "<Figure size 432x288 with 1 Axes>"
      ]
     },
     "metadata": {
      "needs_background": "light"
     },
     "output_type": "display_data"
    }
   ],
   "source": [
    "region_time_bar = crosstab_region_time_T.plot.bar(stacked= True, color = ['blue', 'red', 'green', 'orange'])\n",
    "plt.legend(title='Region')"
   ]
  },
  {
   "cell_type": "code",
   "execution_count": 104,
   "id": "84b447a4",
   "metadata": {},
   "outputs": [],
   "source": [
    "region_time_bar.figure.savefig(os.path.join(r\"C:\\Users\\18179\\Documents\\CareerFoundry\\InstaCart Basket Analysis\\04 Analysis\\Visualizations\", 'region_time_bar.png'))"
   ]
  },
  {
   "cell_type": "code",
   "execution_count": 106,
   "id": "f3191cf4",
   "metadata": {},
   "outputs": [],
   "source": [
    "#Regional ordering habits-Day\n",
    "\n",
    "crosstab_Region_day = pd.crosstab(df_new['Region'], df_new['order_day_of_week'], dropna = False)\n",
    "crosstab_Region_day.to_clipboard()"
   ]
  },
  {
   "cell_type": "code",
   "execution_count": 107,
   "id": "3f302196",
   "metadata": {},
   "outputs": [],
   "source": [
    "crosstab_region_day_T = crosstab_Region_day.T"
   ]
  },
  {
   "cell_type": "code",
   "execution_count": 108,
   "id": "7bfa0ce0",
   "metadata": {},
   "outputs": [
    {
     "data": {
      "text/plain": [
       "<matplotlib.legend.Legend at 0x1591dcfcd30>"
      ]
     },
     "execution_count": 108,
     "metadata": {},
     "output_type": "execute_result"
    },
    {
     "data": {
      "image/png": "[encoded data removed]",
      "text/plain": [
       "<Figure size 432x288 with 1 Axes>"
      ]
     },
     "metadata": {
      "needs_background": "light"
     },
     "output_type": "display_data"
    }
   ],
   "source": [
    "region_day_bar = crosstab_region_day_T.plot.bar(stacked= True, color = ['blue', 'red', 'green', 'orange'])\n",
    "plt.legend(title='Region')"
   ]
  },
  {
   "cell_type": "code",
   "execution_count": 109,
   "id": "73645e19",
   "metadata": {},
   "outputs": [],
   "source": [
    "region_day_bar.figure.savefig(os.path.join(r\"C:\\Users\\18179\\Documents\\CareerFoundry\\InstaCart Basket Analysis\\04 Analysis\\Visualizations\", 'region_day_bar.png'))"
   ]
  },
  {
   "cell_type": "code",
   "execution_count": 110,
   "id": "52fa5442",
   "metadata": {},
   "outputs": [],
   "source": [
    "#Frequency of purchases viewed by region and loyalty\n",
    "\n",
    "region_loyalty_freq = df_new.groupby(['Region', 'loyalty_flag'])['days_since_prior_order'].mean().unstack('loyalty_flag').fillna(0)"
   ]
  },
  {
   "cell_type": "code",
   "execution_count": 119,
   "id": "d4dcd7f7",
   "metadata": {},
   "outputs": [
    {
     "data": {
      "text/plain": [
       "<AxesSubplot:xlabel='Region'>"
      ]
     },
     "execution_count": 119,
     "metadata": {},
     "output_type": "execute_result"
    },
    {
     "data": {
      "image/png": "[encoded data removed]",
      "text/plain": [
       "<Figure size 432x288 with 1 Axes>"
      ]
     },
     "metadata": {
      "needs_background": "light"
     },
     "output_type": "display_data"
    }
   ],
   "source": [
    "region_loyalty_freq.plot.bar(color = ['green', 'orange', 'blue'])"
   ]
  },
  {
   "cell_type": "code",
   "execution_count": 125,
   "id": "ab84a430",
   "metadata": {},
   "outputs": [
    {
     "data": {
      "text/plain": [
       "'hi'"
      ]
     },
     "execution_count": 125,
     "metadata": {},
     "output_type": "execute_result"
    }
   ],
   "source": [
    "'hi'"
   ]
  },
  {
   "cell_type": "code",
   "execution_count": null,
   "id": "b703f0bd",
   "metadata": {},
   "outputs": [],
   "source": []
  },
  {
   "cell_type": "code",
   "execution_count": 59,
   "id": "f09bd416",
   "metadata": {},
   "outputs": [],
   "source": [
    "#create subset for age-dept_id chart\n",
    "#plot age-dept id-tried a couple of graphs: processing time was long and will need to create age groups for bar graph to be legible.\n",
    "df_1 = small[['Age', 'department_id']]"
   ]
  },
  {
   "cell_type": "code",
   "execution_count": 62,
   "id": "3f2fea10",
   "metadata": {},
   "outputs": [],
   "source": [
    "#Create subset for age-price\n",
    "df_age_price = small[['Age', 'prices']]"
   ]
  },
  {
   "cell_type": "code",
   "execution_count": 63,
   "id": "888fe8e8",
   "metadata": {},
   "outputs": [
    {
     "data": {
      "image/png": "[encoded data removed]",
      "text/plain": [
       "<Figure size 432x288 with 1 Axes>"
      ]
     },
     "metadata": {
      "needs_background": "light"
     },
     "output_type": "display_data"
    }
   ],
   "source": [
    "#Plot Age-price\n",
    "\n",
    "Line_age_Prices = sns.lineplot(data = df_age_price, x = 'Age', y = 'prices')"
   ]
  },
  {
   "cell_type": "code",
   "execution_count": 64,
   "id": "ec1ce4f4",
   "metadata": {},
   "outputs": [],
   "source": [
    "#save chart\n",
    "Line_age_Prices.figure.savefig(os.path.join(r\"C:\\Users\\18179\\Documents\\CareerFoundry\\InstaCart Basket Analysis\\04 Analysis\\Visualizations\", 'Line_age_price.png'))"
   ]
  },
  {
   "cell_type": "code",
   "execution_count": 139,
   "id": "c4417854",
   "metadata": {},
   "outputs": [
    {
     "data": {
      "image/png": "[encoded data removed]",
      "text/plain": [
       "<Figure size 432x288 with 1 Axes>"
      ]
     },
     "metadata": {
      "needs_background": "light"
     },
     "output_type": "display_data"
    }
   ],
   "source": [
    "#Family status affects amount spent\n",
    "\n",
    "bar = df_new['fam_status'].value_counts('prices').plot.bar(color = ['green'])"
   ]
  },
  {
   "cell_type": "code",
   "execution_count": 140,
   "id": "1de98e1e",
   "metadata": {},
   "outputs": [],
   "source": [
    "bar.figure.savefig(os.path.join(r\"C:\\Users\\18179\\Documents\\CareerFoundry\\InstaCart Basket Analysis\\04 Analysis\\Visualizations\", 'fam_staus_spending.png'))"
   ]
  },
  {
   "cell_type": "code",
   "execution_count": 129,
   "id": "5628f33e",
   "metadata": {},
   "outputs": [
    {
     "data": {
      "text/html": [
       "<div>\n",
       "<style scoped>\n",
       "    .dataframe tbody tr th:only-of-type {\n",
       "        vertical-align: middle;\n",
       "    }\n",
       "\n",
       "    .dataframe tbody tr th {\n",
       "        vertical-align: top;\n",
       "    }\n",
       "\n",
       "    .dataframe thead th {\n",
       "        text-align: right;\n",
       "    }\n",
       "</style>\n",
       "<table border=\"1\" class=\"dataframe\">\n",
       "  <thead>\n",
       "    <tr style=\"text-align: right;\">\n",
       "      <th>fam_status</th>\n",
       "      <th>divorced/widowed</th>\n",
       "      <th>living with parents and siblings</th>\n",
       "      <th>married</th>\n",
       "      <th>single</th>\n",
       "    </tr>\n",
       "    <tr>\n",
       "      <th>spending_flag</th>\n",
       "      <th></th>\n",
       "      <th></th>\n",
       "      <th></th>\n",
       "      <th></th>\n",
       "    </tr>\n",
       "  </thead>\n",
       "  <tbody>\n",
       "    <tr>\n",
       "      <th>High spender</th>\n",
       "      <td>49316</td>\n",
       "      <td>27295</td>\n",
       "      <td>418090</td>\n",
       "      <td>92573</td>\n",
       "    </tr>\n",
       "    <tr>\n",
       "      <th>Low spender</th>\n",
       "      <td>2528564</td>\n",
       "      <td>1416786</td>\n",
       "      <td>20770040</td>\n",
       "      <td>4868760</td>\n",
       "    </tr>\n",
       "  </tbody>\n",
       "</table>\n",
       "</div>"
      ],
      "text/plain": [
       "fam_status     divorced/widowed  living with parents and siblings   married  \\\n",
       "spending_flag                                                                 \n",
       "High spender              49316                             27295    418090   \n",
       "Low spender             2528564                           1416786  20770040   \n",
       "\n",
       "fam_status      single  \n",
       "spending_flag           \n",
       "High spender     92573  \n",
       "Low spender    4868760  "
      ]
     },
     "execution_count": 129,
     "metadata": {},
     "output_type": "execute_result"
    }
   ],
   "source": [
    "#Relate age to family status\n",
    "\n",
    "crosstab_fam_status_spend = pd.crosstab(df_new['spending_flag'],df_new['fam_status'], dropna=False )\n",
    "crosstab_fam_status_spend"
   ]
  },
  {
   "cell_type": "code",
   "execution_count": 138,
   "id": "28fddc0a",
   "metadata": {},
   "outputs": [],
   "source": [
    "crosstab_fam_status_spend.to_clipboard()"
   ]
  },
  {
   "cell_type": "code",
   "execution_count": 134,
   "id": "99692d49",
   "metadata": {},
   "outputs": [
    {
     "data": {
      "text/html": [
       "<div>\n",
       "<style scoped>\n",
       "    .dataframe tbody tr th:only-of-type {\n",
       "        vertical-align: middle;\n",
       "    }\n",
       "\n",
       "    .dataframe tbody tr th {\n",
       "        vertical-align: top;\n",
       "    }\n",
       "\n",
       "    .dataframe thead th {\n",
       "        text-align: right;\n",
       "    }\n",
       "</style>\n",
       "<table border=\"1\" class=\"dataframe\">\n",
       "  <thead>\n",
       "    <tr style=\"text-align: right;\">\n",
       "      <th>fam_status</th>\n",
       "      <th>divorced/widowed</th>\n",
       "      <th>living with parents and siblings</th>\n",
       "      <th>married</th>\n",
       "      <th>single</th>\n",
       "    </tr>\n",
       "    <tr>\n",
       "      <th>Age</th>\n",
       "      <th></th>\n",
       "      <th></th>\n",
       "      <th></th>\n",
       "      <th></th>\n",
       "    </tr>\n",
       "  </thead>\n",
       "  <tbody>\n",
       "    <tr>\n",
       "      <th>18</th>\n",
       "      <td>0</td>\n",
       "      <td>350433</td>\n",
       "      <td>0</td>\n",
       "      <td>115961</td>\n",
       "    </tr>\n",
       "    <tr>\n",
       "      <th>19</th>\n",
       "      <td>0</td>\n",
       "      <td>380751</td>\n",
       "      <td>0</td>\n",
       "      <td>102821</td>\n",
       "    </tr>\n",
       "    <tr>\n",
       "      <th>20</th>\n",
       "      <td>0</td>\n",
       "      <td>350823</td>\n",
       "      <td>0</td>\n",
       "      <td>117059</td>\n",
       "    </tr>\n",
       "    <tr>\n",
       "      <th>21</th>\n",
       "      <td>0</td>\n",
       "      <td>362074</td>\n",
       "      <td>0</td>\n",
       "      <td>114647</td>\n",
       "    </tr>\n",
       "    <tr>\n",
       "      <th>22</th>\n",
       "      <td>0</td>\n",
       "      <td>0</td>\n",
       "      <td>352709</td>\n",
       "      <td>125851</td>\n",
       "    </tr>\n",
       "    <tr>\n",
       "      <th>...</th>\n",
       "      <td>...</td>\n",
       "      <td>...</td>\n",
       "      <td>...</td>\n",
       "      <td>...</td>\n",
       "    </tr>\n",
       "    <tr>\n",
       "      <th>77</th>\n",
       "      <td>111490</td>\n",
       "      <td>0</td>\n",
       "      <td>353472</td>\n",
       "      <td>0</td>\n",
       "    </tr>\n",
       "    <tr>\n",
       "      <th>78</th>\n",
       "      <td>120600</td>\n",
       "      <td>0</td>\n",
       "      <td>339886</td>\n",
       "      <td>0</td>\n",
       "    </tr>\n",
       "    <tr>\n",
       "      <th>79</th>\n",
       "      <td>115897</td>\n",
       "      <td>0</td>\n",
       "      <td>379415</td>\n",
       "      <td>0</td>\n",
       "    </tr>\n",
       "    <tr>\n",
       "      <th>80</th>\n",
       "      <td>114906</td>\n",
       "      <td>0</td>\n",
       "      <td>367527</td>\n",
       "      <td>0</td>\n",
       "    </tr>\n",
       "    <tr>\n",
       "      <th>81</th>\n",
       "      <td>134969</td>\n",
       "      <td>0</td>\n",
       "      <td>338580</td>\n",
       "      <td>0</td>\n",
       "    </tr>\n",
       "  </tbody>\n",
       "</table>\n",
       "<p>64 rows × 4 columns</p>\n",
       "</div>"
      ],
      "text/plain": [
       "fam_status  divorced/widowed  living with parents and siblings  married  \\\n",
       "Age                                                                       \n",
       "18                         0                            350433        0   \n",
       "19                         0                            380751        0   \n",
       "20                         0                            350823        0   \n",
       "21                         0                            362074        0   \n",
       "22                         0                                 0   352709   \n",
       "..                       ...                               ...      ...   \n",
       "77                    111490                                 0   353472   \n",
       "78                    120600                                 0   339886   \n",
       "79                    115897                                 0   379415   \n",
       "80                    114906                                 0   367527   \n",
       "81                    134969                                 0   338580   \n",
       "\n",
       "fam_status  single  \n",
       "Age                 \n",
       "18          115961  \n",
       "19          102821  \n",
       "20          117059  \n",
       "21          114647  \n",
       "22          125851  \n",
       "..             ...  \n",
       "77               0  \n",
       "78               0  \n",
       "79               0  \n",
       "80               0  \n",
       "81               0  \n",
       "\n",
       "[64 rows x 4 columns]"
      ]
     },
     "execution_count": 134,
     "metadata": {},
     "output_type": "execute_result"
    }
   ],
   "source": [
    "crosstab_age_fam = pd.crosstab(df_new['fam_status'],df_new['Age'], dropna=False )\n",
    "crosstab_age_fam.T "
   ]
  },
  {
   "cell_type": "code",
   "execution_count": 135,
   "id": "ad329645",
   "metadata": {},
   "outputs": [],
   "source": [
    "crosstab_age_fam_t = crosstab_age_fam.T  "
   ]
  },
  {
   "cell_type": "code",
   "execution_count": 137,
   "id": "e4a6a51f",
   "metadata": {},
   "outputs": [],
   "source": [
    "crosstab_age_fam_t.to_clipboard()"
   ]
  },
  {
   "cell_type": "code",
   "execution_count": 142,
   "id": "f6e775cc",
   "metadata": {},
   "outputs": [],
   "source": [
    "#fam status-hour\n",
    "crosstab_fam_hour = pd.crosstab(df_new['fam_status'], df_new['order_hour_of_day'], dropna = False)\n",
    "crosstab_fam_hour.to_clipboard()"
   ]
  },
  {
   "cell_type": "code",
   "execution_count": 145,
   "id": "75064197",
   "metadata": {},
   "outputs": [
    {
     "data": {
      "text/html": [
       "<div>\n",
       "<style scoped>\n",
       "    .dataframe tbody tr th:only-of-type {\n",
       "        vertical-align: middle;\n",
       "    }\n",
       "\n",
       "    .dataframe tbody tr th {\n",
       "        vertical-align: top;\n",
       "    }\n",
       "\n",
       "    .dataframe thead th {\n",
       "        text-align: right;\n",
       "    }\n",
       "</style>\n",
       "<table border=\"1\" class=\"dataframe\">\n",
       "  <thead>\n",
       "    <tr style=\"text-align: right;\">\n",
       "      <th>fam_status</th>\n",
       "      <th>divorced/widowed</th>\n",
       "      <th>living with parents and siblings</th>\n",
       "      <th>married</th>\n",
       "      <th>single</th>\n",
       "    </tr>\n",
       "    <tr>\n",
       "      <th>order_hour_of_day</th>\n",
       "      <th></th>\n",
       "      <th></th>\n",
       "      <th></th>\n",
       "      <th></th>\n",
       "    </tr>\n",
       "  </thead>\n",
       "  <tbody>\n",
       "    <tr>\n",
       "      <th>0</th>\n",
       "      <td>15748</td>\n",
       "      <td>10368</td>\n",
       "      <td>141536</td>\n",
       "      <td>34295</td>\n",
       "    </tr>\n",
       "    <tr>\n",
       "      <th>1</th>\n",
       "      <td>8347</td>\n",
       "      <td>5411</td>\n",
       "      <td>74734</td>\n",
       "      <td>17511</td>\n",
       "    </tr>\n",
       "    <tr>\n",
       "      <th>2</th>\n",
       "      <td>6045</td>\n",
       "      <td>3409</td>\n",
       "      <td>44033</td>\n",
       "      <td>10263</td>\n",
       "    </tr>\n",
       "    <tr>\n",
       "      <th>3</th>\n",
       "      <td>4292</td>\n",
       "      <td>2462</td>\n",
       "      <td>32769</td>\n",
       "      <td>7597</td>\n",
       "    </tr>\n",
       "    <tr>\n",
       "      <th>4</th>\n",
       "      <td>3910</td>\n",
       "      <td>2616</td>\n",
       "      <td>34884</td>\n",
       "      <td>8034</td>\n",
       "    </tr>\n",
       "    <tr>\n",
       "      <th>5</th>\n",
       "      <td>7500</td>\n",
       "      <td>4208</td>\n",
       "      <td>57431</td>\n",
       "      <td>13101</td>\n",
       "    </tr>\n",
       "    <tr>\n",
       "      <th>6</th>\n",
       "      <td>23148</td>\n",
       "      <td>14451</td>\n",
       "      <td>191950</td>\n",
       "      <td>46556</td>\n",
       "    </tr>\n",
       "    <tr>\n",
       "      <th>7</th>\n",
       "      <td>75950</td>\n",
       "      <td>41544</td>\n",
       "      <td>588907</td>\n",
       "      <td>140034</td>\n",
       "    </tr>\n",
       "    <tr>\n",
       "      <th>8</th>\n",
       "      <td>139507</td>\n",
       "      <td>74470</td>\n",
       "      <td>1143709</td>\n",
       "      <td>267711</td>\n",
       "    </tr>\n",
       "    <tr>\n",
       "      <th>9</th>\n",
       "      <td>195332</td>\n",
       "      <td>108323</td>\n",
       "      <td>1627038</td>\n",
       "      <td>382202</td>\n",
       "    </tr>\n",
       "    <tr>\n",
       "      <th>10</th>\n",
       "      <td>218986</td>\n",
       "      <td>124053</td>\n",
       "      <td>1825110</td>\n",
       "      <td>421100</td>\n",
       "    </tr>\n",
       "    <tr>\n",
       "      <th>11</th>\n",
       "      <td>216448</td>\n",
       "      <td>122266</td>\n",
       "      <td>1790977</td>\n",
       "      <td>418987</td>\n",
       "    </tr>\n",
       "    <tr>\n",
       "      <th>12</th>\n",
       "      <td>206506</td>\n",
       "      <td>116185</td>\n",
       "      <td>1709962</td>\n",
       "      <td>397051</td>\n",
       "    </tr>\n",
       "    <tr>\n",
       "      <th>13</th>\n",
       "      <td>210509</td>\n",
       "      <td>119743</td>\n",
       "      <td>1738205</td>\n",
       "      <td>402010</td>\n",
       "    </tr>\n",
       "    <tr>\n",
       "      <th>14</th>\n",
       "      <td>213067</td>\n",
       "      <td>119424</td>\n",
       "      <td>1758278</td>\n",
       "      <td>409611</td>\n",
       "    </tr>\n",
       "    <tr>\n",
       "      <th>15</th>\n",
       "      <td>211636</td>\n",
       "      <td>118122</td>\n",
       "      <td>1730121</td>\n",
       "      <td>408027</td>\n",
       "    </tr>\n",
       "    <tr>\n",
       "      <th>16</th>\n",
       "      <td>201958</td>\n",
       "      <td>112349</td>\n",
       "      <td>1640501</td>\n",
       "      <td>391220</td>\n",
       "    </tr>\n",
       "    <tr>\n",
       "      <th>17</th>\n",
       "      <td>163535</td>\n",
       "      <td>92931</td>\n",
       "      <td>1350131</td>\n",
       "      <td>318754</td>\n",
       "    </tr>\n",
       "    <tr>\n",
       "      <th>18</th>\n",
       "      <td>127013</td>\n",
       "      <td>72168</td>\n",
       "      <td>1062513</td>\n",
       "      <td>244387</td>\n",
       "    </tr>\n",
       "    <tr>\n",
       "      <th>19</th>\n",
       "      <td>101363</td>\n",
       "      <td>55741</td>\n",
       "      <td>812174</td>\n",
       "      <td>188914</td>\n",
       "    </tr>\n",
       "    <tr>\n",
       "      <th>20</th>\n",
       "      <td>79210</td>\n",
       "      <td>42629</td>\n",
       "      <td>635529</td>\n",
       "      <td>148904</td>\n",
       "    </tr>\n",
       "    <tr>\n",
       "      <th>21</th>\n",
       "      <td>64708</td>\n",
       "      <td>34671</td>\n",
       "      <td>523647</td>\n",
       "      <td>121651</td>\n",
       "    </tr>\n",
       "    <tr>\n",
       "      <th>22</th>\n",
       "      <td>50650</td>\n",
       "      <td>28344</td>\n",
       "      <td>414143</td>\n",
       "      <td>99779</td>\n",
       "    </tr>\n",
       "    <tr>\n",
       "      <th>23</th>\n",
       "      <td>32512</td>\n",
       "      <td>18193</td>\n",
       "      <td>259848</td>\n",
       "      <td>63634</td>\n",
       "    </tr>\n",
       "  </tbody>\n",
       "</table>\n",
       "</div>"
      ],
      "text/plain": [
       "fam_status         divorced/widowed  living with parents and siblings  \\\n",
       "order_hour_of_day                                                       \n",
       "0                             15748                             10368   \n",
       "1                              8347                              5411   \n",
       "2                              6045                              3409   \n",
       "3                              4292                              2462   \n",
       "4                              3910                              2616   \n",
       "5                              7500                              4208   \n",
       "6                             23148                             14451   \n",
       "7                             75950                             41544   \n",
       "8                            139507                             74470   \n",
       "9                            195332                            108323   \n",
       "10                           218986                            124053   \n",
       "11                           216448                            122266   \n",
       "12                           206506                            116185   \n",
       "13                           210509                            119743   \n",
       "14                           213067                            119424   \n",
       "15                           211636                            118122   \n",
       "16                           201958                            112349   \n",
       "17                           163535                             92931   \n",
       "18                           127013                             72168   \n",
       "19                           101363                             55741   \n",
       "20                            79210                             42629   \n",
       "21                            64708                             34671   \n",
       "22                            50650                             28344   \n",
       "23                            32512                             18193   \n",
       "\n",
       "fam_status         married  single  \n",
       "order_hour_of_day                   \n",
       "0                   141536   34295  \n",
       "1                    74734   17511  \n",
       "2                    44033   10263  \n",
       "3                    32769    7597  \n",
       "4                    34884    8034  \n",
       "5                    57431   13101  \n",
       "6                   191950   46556  \n",
       "7                   588907  140034  \n",
       "8                  1143709  267711  \n",
       "9                  1627038  382202  \n",
       "10                 1825110  421100  \n",
       "11                 1790977  418987  \n",
       "12                 1709962  397051  \n",
       "13                 1738205  402010  \n",
       "14                 1758278  409611  \n",
       "15                 1730121  408027  \n",
       "16                 1640501  391220  \n",
       "17                 1350131  318754  \n",
       "18                 1062513  244387  \n",
       "19                  812174  188914  \n",
       "20                  635529  148904  \n",
       "21                  523647  121651  \n",
       "22                  414143   99779  \n",
       "23                  259848   63634  "
      ]
     },
     "execution_count": 145,
     "metadata": {},
     "output_type": "execute_result"
    }
   ],
   "source": [
    "crosstab_fam_hour.T"
   ]
  },
  {
   "cell_type": "code",
   "execution_count": 146,
   "id": "97575edd",
   "metadata": {},
   "outputs": [],
   "source": [
    "crosstab_fam_hour_t = crosstab_fam_hour.T"
   ]
  },
  {
   "cell_type": "code",
   "execution_count": null,
   "id": "f804afb8",
   "metadata": {},
   "outputs": [],
   "source": []
  },
  {
   "cell_type": "code",
   "execution_count": 148,
   "id": "b9129a3e",
   "metadata": {},
   "outputs": [
    {
     "data": {
      "image/png": "[encoded data removed]",
      "text/plain": [
       "<Figure size 432x288 with 1 Axes>"
      ]
     },
     "metadata": {
      "needs_background": "light"
     },
     "output_type": "display_data"
    }
   ],
   "source": [
    "#graph family status with hour of day\n",
    "\n",
    "fam_hour_bar = crosstab_fam_hour_t.plot.bar(stacked= True, color = ['blue', 'red', 'green', 'orange'])"
   ]
  },
  {
   "cell_type": "code",
   "execution_count": null,
   "id": "2f0eefd6",
   "metadata": {},
   "outputs": [],
   "source": []
  },
  {
   "cell_type": "code",
   "execution_count": null,
   "id": "35858a6f",
   "metadata": {},
   "outputs": [],
   "source": []
  },
  {
   "cell_type": "code",
   "execution_count": null,
   "id": "77680ec7",
   "metadata": {},
   "outputs": [],
   "source": []
  },
  {
   "cell_type": "code",
   "execution_count": null,
   "id": "b64dcf45",
   "metadata": {},
   "outputs": [],
   "source": []
  },
  {
   "cell_type": "code",
   "execution_count": null,
   "id": "b854d205",
   "metadata": {},
   "outputs": [],
   "source": []
  },
  {
   "cell_type": "code",
   "execution_count": null,
   "id": "b75c4af2",
   "metadata": {},
   "outputs": [],
   "source": []
  },
  {
   "cell_type": "markdown",
   "id": "fa87cbd4",
   "metadata": {},
   "source": []
  },
  {
   "cell_type": "code",
   "execution_count": 150,
   "id": "ff1acc08",
   "metadata": {},
   "outputs": [],
   "source": [
    "#Subgroup dependants, department_id\n",
    "\n",
    "depend_dept_bar = df_new.groupby(['department_id', 'n_dependants'])['department_id'].count().unstack('n_dependants').fillna(0)"
   ]
  },
  {
   "cell_type": "code",
   "execution_count": 151,
   "id": "5513d46a",
   "metadata": {},
   "outputs": [
    {
     "data": {
      "text/plain": [
       "<AxesSubplot:xlabel='department_id'>"
      ]
     },
     "execution_count": 151,
     "metadata": {},
     "output_type": "execute_result"
    },
    {
     "data": {
      "image/png": "[encoded data removed]",
      "text/plain": [
       "<Figure size 432x288 with 1 Axes>"
      ]
     },
     "metadata": {
      "needs_background": "light"
     },
     "output_type": "display_data"
    }
   ],
   "source": [
    "#Plot dependants-dept_id\n",
    "\n",
    "depend_dept_bar.plot(kind = 'bar', stacked = True)"
   ]
  },
  {
   "cell_type": "code",
   "execution_count": 152,
   "id": "16f81290",
   "metadata": {},
   "outputs": [
    {
     "ename": "AttributeError",
     "evalue": "'DataFrame' object has no attribute 'figure'",
     "output_type": "error",
     "traceback": [
      "\u001b[1;31m---------------------------------------------------------------------------\u001b[0m",
      "\u001b[1;31mAttributeError\u001b[0m                            Traceback (most recent call last)",
      "\u001b[1;32m<ipython-input-152-f825f17fcd7e>\u001b[0m in \u001b[0;36m<module>\u001b[1;34m\u001b[0m\n\u001b[0;32m      1\u001b[0m \u001b[1;31m#Save dependants-Dept_id\u001b[0m\u001b[1;33m\u001b[0m\u001b[1;33m\u001b[0m\u001b[1;33m\u001b[0m\u001b[0m\n\u001b[0;32m      2\u001b[0m \u001b[1;33m\u001b[0m\u001b[0m\n\u001b[1;32m----> 3\u001b[1;33m \u001b[0mdepend_dept_bar\u001b[0m\u001b[1;33m.\u001b[0m\u001b[0mfigure\u001b[0m\u001b[1;33m.\u001b[0m\u001b[0msavefig\u001b[0m\u001b[1;33m(\u001b[0m\u001b[0mos\u001b[0m\u001b[1;33m.\u001b[0m\u001b[0mpath\u001b[0m\u001b[1;33m.\u001b[0m\u001b[0mjoin\u001b[0m\u001b[1;33m(\u001b[0m\u001b[1;34mr\"C:\\Users\\18179\\Documents\\CareerFoundry\\InstaCart Basket Analysis\\04 Analysis\\Visualizations\"\u001b[0m\u001b[1;33m,\u001b[0m \u001b[1;34m'depend_dept_bar.png'\u001b[0m\u001b[1;33m)\u001b[0m\u001b[1;33m)\u001b[0m\u001b[1;33m\u001b[0m\u001b[1;33m\u001b[0m\u001b[0m\n\u001b[0m",
      "\u001b[1;32m~\\anaconda3\\lib\\site-packages\\pandas\\core\\generic.py\u001b[0m in \u001b[0;36m__getattr__\u001b[1;34m(self, name)\u001b[0m\n\u001b[0;32m   5463\u001b[0m             \u001b[1;32mif\u001b[0m \u001b[0mself\u001b[0m\u001b[1;33m.\u001b[0m\u001b[0m_info_axis\u001b[0m\u001b[1;33m.\u001b[0m\u001b[0m_can_hold_identifiers_and_holds_name\u001b[0m\u001b[1;33m(\u001b[0m\u001b[0mname\u001b[0m\u001b[1;33m)\u001b[0m\u001b[1;33m:\u001b[0m\u001b[1;33m\u001b[0m\u001b[1;33m\u001b[0m\u001b[0m\n\u001b[0;32m   5464\u001b[0m                 \u001b[1;32mreturn\u001b[0m \u001b[0mself\u001b[0m\u001b[1;33m[\u001b[0m\u001b[0mname\u001b[0m\u001b[1;33m]\u001b[0m\u001b[1;33m\u001b[0m\u001b[1;33m\u001b[0m\u001b[0m\n\u001b[1;32m-> 5465\u001b[1;33m             \u001b[1;32mreturn\u001b[0m \u001b[0mobject\u001b[0m\u001b[1;33m.\u001b[0m\u001b[0m__getattribute__\u001b[0m\u001b[1;33m(\u001b[0m\u001b[0mself\u001b[0m\u001b[1;33m,\u001b[0m \u001b[0mname\u001b[0m\u001b[1;33m)\u001b[0m\u001b[1;33m\u001b[0m\u001b[1;33m\u001b[0m\u001b[0m\n\u001b[0m\u001b[0;32m   5466\u001b[0m \u001b[1;33m\u001b[0m\u001b[0m\n\u001b[0;32m   5467\u001b[0m     \u001b[1;32mdef\u001b[0m \u001b[0m__setattr__\u001b[0m\u001b[1;33m(\u001b[0m\u001b[0mself\u001b[0m\u001b[1;33m,\u001b[0m \u001b[0mname\u001b[0m\u001b[1;33m:\u001b[0m \u001b[0mstr\u001b[0m\u001b[1;33m,\u001b[0m \u001b[0mvalue\u001b[0m\u001b[1;33m)\u001b[0m \u001b[1;33m->\u001b[0m \u001b[1;32mNone\u001b[0m\u001b[1;33m:\u001b[0m\u001b[1;33m\u001b[0m\u001b[1;33m\u001b[0m\u001b[0m\n",
      "\u001b[1;31mAttributeError\u001b[0m: 'DataFrame' object has no attribute 'figure'"
     ]
    }
   ],
   "source": [
    "#Save dependants-Dept_id\n",
    "\n",
    "depend_dept_bar.figure.savefig(os.path.join(r\"C:\\Users\\18179\\Documents\\CareerFoundry\\InstaCart Basket Analysis\\04 Analysis\\Visualizations\", 'depend_dept_bar.png'))"
   ]
  },
  {
   "cell_type": "code",
   "execution_count": 90,
   "id": "5fa26c1d",
   "metadata": {},
   "outputs": [],
   "source": [
    "#Subgroup items purchased based off family status\n",
    "\n",
    "sub_fam_items = df_new.groupby(['department_id', 'fam_status'])['department_id'].count().unstack('fam_status').fillna(0)"
   ]
  },
  {
   "cell_type": "code",
   "execution_count": 91,
   "id": "3088c083",
   "metadata": {},
   "outputs": [
    {
     "data": {
      "text/plain": [
       "<AxesSubplot:xlabel='department_id'>"
      ]
     },
     "execution_count": 91,
     "metadata": {},
     "output_type": "execute_result"
    },
    {
     "data": {
      "image/png": "[encoded data removed]",
      "text/plain": [
       "<Figure size 432x288 with 1 Axes>"
      ]
     },
     "metadata": {
      "needs_background": "light"
     },
     "output_type": "display_data"
    }
   ],
   "source": [
    "#Stacked bar chart items from each department based off family status\n",
    "\n",
    "sub_fam_items.plot(kind = 'bar', stacked = True)"
   ]
  },
  {
   "cell_type": "code",
   "execution_count": 93,
   "id": "2a18ef7f",
   "metadata": {},
   "outputs": [
    {
     "data": {
      "image/png": "[encoded data removed]",
      "text/plain": [
       "<Figure size 432x288 with 1 Axes>"
      ]
     },
     "metadata": {
      "needs_background": "light"
     },
     "output_type": "display_data"
    }
   ],
   "source": [
    "#Rank Department usage\n",
    "\n",
    "bar_dept_use = df_new['department_id'].value_counts().plot.bar()"
   ]
  },
  {
   "cell_type": "code",
   "execution_count": 94,
   "id": "451f65da",
   "metadata": {},
   "outputs": [],
   "source": [
    "bar_dept_use.figure.savefig(os.path.join(r\"C:\\Users\\18179\\Documents\\CareerFoundry\\InstaCart Basket Analysis\\04 Analysis\\Visualizations\", 'bar_dept_use.png'))"
   ]
  },
  {
   "cell_type": "code",
   "execution_count": 95,
   "id": "0145c2f5",
   "metadata": {},
   "outputs": [
    {
     "data": {
      "image/png": "[encoded data removed]",
      "text/plain": [
       "<Figure size 432x288 with 1 Axes>"
      ]
     },
     "metadata": {
      "needs_background": "light"
     },
     "output_type": "display_data"
    }
   ],
   "source": [
    "#Income level-amount ordered\n",
    "\n",
    "bar_income_order = df_new['income_level'].value_counts().plot.bar()"
   ]
  },
  {
   "cell_type": "code",
   "execution_count": 96,
   "id": "3fd96e3d",
   "metadata": {},
   "outputs": [],
   "source": [
    "bar_income_order.figure.savefig(os.path.join(r\"C:\\Users\\18179\\Documents\\CareerFoundry\\InstaCart Basket Analysis\\04 Analysis\\Visualizations\", 'bar_income_order.png'))"
   ]
  },
  {
   "cell_type": "code",
   "execution_count": null,
   "id": "0927c3c0",
   "metadata": {},
   "outputs": [],
   "source": []
  },
  {
   "cell_type": "code",
   "execution_count": 98,
   "id": "c8a8c320",
   "metadata": {},
   "outputs": [
    {
     "data": {
      "text/html": [
       "<div>\n",
       "<style scoped>\n",
       "    .dataframe tbody tr th:only-of-type {\n",
       "        vertical-align: middle;\n",
       "    }\n",
       "\n",
       "    .dataframe tbody tr th {\n",
       "        vertical-align: top;\n",
       "    }\n",
       "\n",
       "    .dataframe thead tr th {\n",
       "        text-align: left;\n",
       "    }\n",
       "\n",
       "    .dataframe thead tr:last-of-type th {\n",
       "        text-align: right;\n",
       "    }\n",
       "</style>\n",
       "<table border=\"1\" class=\"dataframe\">\n",
       "  <thead>\n",
       "    <tr>\n",
       "      <th></th>\n",
       "      <th colspan=\"3\" halign=\"left\">prices</th>\n",
       "    </tr>\n",
       "    <tr>\n",
       "      <th></th>\n",
       "      <th>min</th>\n",
       "      <th>mean</th>\n",
       "      <th>max</th>\n",
       "    </tr>\n",
       "    <tr>\n",
       "      <th>user_id</th>\n",
       "      <th></th>\n",
       "      <th></th>\n",
       "      <th></th>\n",
       "    </tr>\n",
       "  </thead>\n",
       "  <tbody>\n",
       "    <tr>\n",
       "      <th>1</th>\n",
       "      <td>1.0</td>\n",
       "      <td>6.367797</td>\n",
       "      <td>14.0</td>\n",
       "    </tr>\n",
       "    <tr>\n",
       "      <th>2</th>\n",
       "      <td>1.3</td>\n",
       "      <td>7.515897</td>\n",
       "      <td>14.8</td>\n",
       "    </tr>\n",
       "    <tr>\n",
       "      <th>3</th>\n",
       "      <td>1.3</td>\n",
       "      <td>8.197727</td>\n",
       "      <td>14.4</td>\n",
       "    </tr>\n",
       "    <tr>\n",
       "      <th>7</th>\n",
       "      <td>1.1</td>\n",
       "      <td>7.466990</td>\n",
       "      <td>23.2</td>\n",
       "    </tr>\n",
       "    <tr>\n",
       "      <th>11</th>\n",
       "      <td>1.4</td>\n",
       "      <td>8.328723</td>\n",
       "      <td>14.7</td>\n",
       "    </tr>\n",
       "    <tr>\n",
       "      <th>...</th>\n",
       "      <td>...</td>\n",
       "      <td>...</td>\n",
       "      <td>...</td>\n",
       "    </tr>\n",
       "    <tr>\n",
       "      <th>206202</th>\n",
       "      <td>1.0</td>\n",
       "      <td>8.156061</td>\n",
       "      <td>17.1</td>\n",
       "    </tr>\n",
       "    <tr>\n",
       "      <th>206206</th>\n",
       "      <td>1.1</td>\n",
       "      <td>7.646667</td>\n",
       "      <td>14.8</td>\n",
       "    </tr>\n",
       "    <tr>\n",
       "      <th>206207</th>\n",
       "      <td>1.2</td>\n",
       "      <td>7.313453</td>\n",
       "      <td>24.7</td>\n",
       "    </tr>\n",
       "    <tr>\n",
       "      <th>206208</th>\n",
       "      <td>1.1</td>\n",
       "      <td>8.366617</td>\n",
       "      <td>21.6</td>\n",
       "    </tr>\n",
       "    <tr>\n",
       "      <th>206209</th>\n",
       "      <td>1.1</td>\n",
       "      <td>7.058915</td>\n",
       "      <td>18.8</td>\n",
       "    </tr>\n",
       "  </tbody>\n",
       "</table>\n",
       "<p>146466 rows × 3 columns</p>\n",
       "</div>"
      ],
      "text/plain": [
       "        prices                \n",
       "           min      mean   max\n",
       "user_id                       \n",
       "1          1.0  6.367797  14.0\n",
       "2          1.3  7.515897  14.8\n",
       "3          1.3  8.197727  14.4\n",
       "7          1.1  7.466990  23.2\n",
       "11         1.4  8.328723  14.7\n",
       "...        ...       ...   ...\n",
       "206202     1.0  8.156061  17.1\n",
       "206206     1.1  7.646667  14.8\n",
       "206207     1.2  7.313453  24.7\n",
       "206208     1.1  8.366617  21.6\n",
       "206209     1.1  7.058915  18.8\n",
       "\n",
       "[146466 rows x 3 columns]"
      ]
     },
     "execution_count": 98,
     "metadata": {},
     "output_type": "execute_result"
    }
   ],
   "source": [
    "#7a. Aggregate Min, mean, Max on customer profile level for expenditure\n",
    "\n",
    "df_new.groupby('user_id').agg({'prices' : ['min', 'mean', 'max']})"
   ]
  },
  {
   "cell_type": "code",
   "execution_count": 100,
   "id": "f8af0730",
   "metadata": {},
   "outputs": [
    {
     "data": {
      "text/html": [
       "<div>\n",
       "<style scoped>\n",
       "    .dataframe tbody tr th:only-of-type {\n",
       "        vertical-align: middle;\n",
       "    }\n",
       "\n",
       "    .dataframe tbody tr th {\n",
       "        vertical-align: top;\n",
       "    }\n",
       "\n",
       "    .dataframe thead tr th {\n",
       "        text-align: left;\n",
       "    }\n",
       "\n",
       "    .dataframe thead tr:last-of-type th {\n",
       "        text-align: right;\n",
       "    }\n",
       "</style>\n",
       "<table border=\"1\" class=\"dataframe\">\n",
       "  <thead>\n",
       "    <tr>\n",
       "      <th></th>\n",
       "      <th colspan=\"3\" halign=\"left\">days_since_prior_order</th>\n",
       "    </tr>\n",
       "    <tr>\n",
       "      <th></th>\n",
       "      <th>min</th>\n",
       "      <th>mean</th>\n",
       "      <th>max</th>\n",
       "    </tr>\n",
       "    <tr>\n",
       "      <th>user_id</th>\n",
       "      <th></th>\n",
       "      <th></th>\n",
       "      <th></th>\n",
       "    </tr>\n",
       "  </thead>\n",
       "  <tbody>\n",
       "    <tr>\n",
       "      <th>1</th>\n",
       "      <td>0.0</td>\n",
       "      <td>20.259259</td>\n",
       "      <td>30.0</td>\n",
       "    </tr>\n",
       "    <tr>\n",
       "      <th>2</th>\n",
       "      <td>3.0</td>\n",
       "      <td>15.967033</td>\n",
       "      <td>30.0</td>\n",
       "    </tr>\n",
       "    <tr>\n",
       "      <th>3</th>\n",
       "      <td>7.0</td>\n",
       "      <td>11.487179</td>\n",
       "      <td>21.0</td>\n",
       "    </tr>\n",
       "    <tr>\n",
       "      <th>7</th>\n",
       "      <td>2.0</td>\n",
       "      <td>13.546392</td>\n",
       "      <td>30.0</td>\n",
       "    </tr>\n",
       "    <tr>\n",
       "      <th>11</th>\n",
       "      <td>7.0</td>\n",
       "      <td>19.320988</td>\n",
       "      <td>30.0</td>\n",
       "    </tr>\n",
       "    <tr>\n",
       "      <th>...</th>\n",
       "      <td>...</td>\n",
       "      <td>...</td>\n",
       "      <td>...</td>\n",
       "    </tr>\n",
       "    <tr>\n",
       "      <th>206202</th>\n",
       "      <td>3.0</td>\n",
       "      <td>12.093750</td>\n",
       "      <td>30.0</td>\n",
       "    </tr>\n",
       "    <tr>\n",
       "      <th>206206</th>\n",
       "      <td>0.0</td>\n",
       "      <td>4.042705</td>\n",
       "      <td>15.0</td>\n",
       "    </tr>\n",
       "    <tr>\n",
       "      <th>206207</th>\n",
       "      <td>1.0</td>\n",
       "      <td>14.879397</td>\n",
       "      <td>30.0</td>\n",
       "    </tr>\n",
       "    <tr>\n",
       "      <th>206208</th>\n",
       "      <td>0.0</td>\n",
       "      <td>7.442105</td>\n",
       "      <td>20.0</td>\n",
       "    </tr>\n",
       "    <tr>\n",
       "      <th>206209</th>\n",
       "      <td>3.0</td>\n",
       "      <td>20.275862</td>\n",
       "      <td>30.0</td>\n",
       "    </tr>\n",
       "  </tbody>\n",
       "</table>\n",
       "<p>146466 rows × 3 columns</p>\n",
       "</div>"
      ],
      "text/plain": [
       "        days_since_prior_order                 \n",
       "                           min       mean   max\n",
       "user_id                                        \n",
       "1                          0.0  20.259259  30.0\n",
       "2                          3.0  15.967033  30.0\n",
       "3                          7.0  11.487179  21.0\n",
       "7                          2.0  13.546392  30.0\n",
       "11                         7.0  19.320988  30.0\n",
       "...                        ...        ...   ...\n",
       "206202                     3.0  12.093750  30.0\n",
       "206206                     0.0   4.042705  15.0\n",
       "206207                     1.0  14.879397  30.0\n",
       "206208                     0.0   7.442105  20.0\n",
       "206209                     3.0  20.275862  30.0\n",
       "\n",
       "[146466 rows x 3 columns]"
      ]
     },
     "execution_count": 100,
     "metadata": {},
     "output_type": "execute_result"
    }
   ],
   "source": [
    "# Aggregate Min, mean, Max on customer profile level for usage frequency\n",
    "\n",
    "df_new.groupby('user_id').agg({'days_since_prior_order' : ['min', 'mean', 'max']})\n"
   ]
  },
  {
   "cell_type": "code",
   "execution_count": 102,
   "id": "be3f53cc",
   "metadata": {},
   "outputs": [],
   "source": [
    "#8a. Regional comparison of customer profiles. \n",
    "\n",
    "Sbar_region = df_new.groupby(['department_id', 'Region'])['department_id'].count().unstack('Region').fillna(0)"
   ]
  },
  {
   "cell_type": "code",
   "execution_count": 104,
   "id": "f5f2d00f",
   "metadata": {},
   "outputs": [
    {
     "data": {
      "text/plain": [
       "<AxesSubplot:xlabel='department_id'>"
      ]
     },
     "execution_count": 104,
     "metadata": {},
     "output_type": "execute_result"
    },
    {
     "data": {
      "image/png": "[encoded data removed]",
      "text/plain": [
       "<Figure size 432x288 with 1 Axes>"
      ]
     },
     "metadata": {
      "needs_background": "light"
     },
     "output_type": "display_data"
    }
   ],
   "source": [
    "Sbar_region.plot(kind = 'bar', stacked = True)"
   ]
  },
  {
   "cell_type": "code",
   "execution_count": 105,
   "id": "d34f10db",
   "metadata": {},
   "outputs": [
    {
     "data": {
      "image/png": "[encoded data removed]",
      "text/plain": [
       "<Figure size 432x288 with 1 Axes>"
      ]
     },
     "metadata": {
      "needs_background": "light"
     },
     "output_type": "display_data"
    }
   ],
   "source": [
    "#Number items purchased by region\n",
    "\n",
    "bar_region_items = df_new['Region'].value_counts().plot.bar()"
   ]
  },
  {
   "cell_type": "code",
   "execution_count": 106,
   "id": "eb8e865d",
   "metadata": {},
   "outputs": [],
   "source": [
    "bar_region_items.figure.savefig(os.path.join(r\"C:\\Users\\18179\\Documents\\CareerFoundry\\InstaCart Basket Analysis\\04 Analysis\\Visualizations\", 'bar_region_items.png'))"
   ]
  },
  {
   "cell_type": "code",
   "execution_count": 110,
   "id": "bd06bb15",
   "metadata": {},
   "outputs": [
    {
     "data": {
      "image/png": "[encoded data removed]",
      "text/plain": [
       "<Figure size 432x288 with 1 Axes>"
      ]
     },
     "metadata": {
      "needs_background": "light"
     },
     "output_type": "display_data"
    }
   ],
   "source": [
    "#Amount each region spends\n",
    "\n",
    "bar_region_spend = df_new['Region'].value_counts('prices').plot.bar()"
   ]
  },
  {
   "cell_type": "code",
   "execution_count": 111,
   "id": "563c316a",
   "metadata": {},
   "outputs": [],
   "source": [
    "bar_region_spend.figure.savefig(os.path.join(r\"C:\\Users\\18179\\Documents\\CareerFoundry\\InstaCart Basket Analysis\\04 Analysis\\Visualizations\", 'bar_region_spend.png'))"
   ]
  },
  {
   "cell_type": "code",
   "execution_count": null,
   "id": "eae64e70",
   "metadata": {},
   "outputs": [],
   "source": []
  },
  {
   "cell_type": "code",
   "execution_count": null,
   "id": "479145db",
   "metadata": {},
   "outputs": [],
   "source": []
  },
  {
   "cell_type": "code",
   "execution_count": 113,
   "id": "c4b8684a",
   "metadata": {},
   "outputs": [],
   "source": [
    "#Customer loyalty per region\n",
    "\n",
    "Sbar_loyal_region = df_new.groupby(['Region', 'loyalty_flag'])['days_since_prior_order'].mean().unstack('loyalty_flag').fillna(0)"
   ]
  },
  {
   "cell_type": "code",
   "execution_count": 114,
   "id": "292739b9",
   "metadata": {},
   "outputs": [
    {
     "data": {
      "text/plain": [
       "<AxesSubplot:xlabel='Region'>"
      ]
     },
     "execution_count": 114,
     "metadata": {},
     "output_type": "execute_result"
    },
    {
     "data": {
      "image/png": "[encoded data removed]",
      "text/plain": [
       "<Figure size 432x288 with 1 Axes>"
      ]
     },
     "metadata": {
      "needs_background": "light"
     },
     "output_type": "display_data"
    }
   ],
   "source": [
    "Sbar_loyal_region.plot(kind = 'bar', stacked = False)"
   ]
  },
  {
   "cell_type": "code",
   "execution_count": 167,
   "id": "67627bc6",
   "metadata": {},
   "outputs": [
    {
     "data": {
      "image/png": "[encoded data removed]",
      "text/plain": [
       "<Figure size 432x288 with 1 Axes>"
      ]
     },
     "metadata": {
      "needs_background": "light"
     },
     "output_type": "display_data"
    }
   ],
   "source": [
    "#Age histogram\n",
    "\n",
    "age_hist = df_new['Age'].plot.hist(bins = 10, edgecolor = 'white')\n"
   ]
  },
  {
   "cell_type": "code",
   "execution_count": 168,
   "id": "2b4db372",
   "metadata": {},
   "outputs": [],
   "source": [
    "#Save histogram\n",
    "\n",
    "age_hist.figure.savefig(os.path.join(r\"C:\\Users\\18179\\Documents\\CareerFoundry\\InstaCart Basket Analysis\\04 Analysis\\Visualizations\", 'age_hist.png'))"
   ]
  },
  {
   "cell_type": "code",
   "execution_count": 172,
   "id": "bf6fdde4",
   "metadata": {},
   "outputs": [],
   "source": [
    "# Aggregate Min, mean, Max on customer age based on price\n",
    "\n",
    "Age_price_table = df_new.groupby('Age').agg({'prices' : ['min', 'mean', 'max']})\n",
    "Age_price_table.to_clipboard()"
   ]
  },
  {
   "cell_type": "code",
   "execution_count": 173,
   "id": "5abb5d02",
   "metadata": {},
   "outputs": [],
   "source": [
    "# Aggregate Min, mean, Max on customer age based on frequency\n",
    "\n",
    "Age_freq_table = df_new.groupby('Age').agg({'frequency' : ['min', 'mean', 'max']})\n",
    "Age_freq_table.to_clipboard()"
   ]
  },
  {
   "cell_type": "code",
   "execution_count": 174,
   "id": "34318852",
   "metadata": {},
   "outputs": [],
   "source": [
    "# Aggregate Min, mean, Max on dept id based on age\n",
    "\n",
    "Age_freq_table = df_new.groupby('department_id').agg({'Age' : ['min', 'mean', 'max']})\n",
    "Age_freq_table.to_clipboard()"
   ]
  },
  {
   "cell_type": "code",
   "execution_count": 178,
   "id": "a323dc7a",
   "metadata": {},
   "outputs": [
    {
     "data": {
      "text/html": [
       "<div>\n",
       "<style scoped>\n",
       "    .dataframe tbody tr th:only-of-type {\n",
       "        vertical-align: middle;\n",
       "    }\n",
       "\n",
       "    .dataframe tbody tr th {\n",
       "        vertical-align: top;\n",
       "    }\n",
       "\n",
       "    .dataframe thead th {\n",
       "        text-align: right;\n",
       "    }\n",
       "</style>\n",
       "<table border=\"1\" class=\"dataframe\">\n",
       "  <thead>\n",
       "    <tr style=\"text-align: right;\">\n",
       "      <th>spending_flag</th>\n",
       "      <th>High spender</th>\n",
       "      <th>Low spender</th>\n",
       "    </tr>\n",
       "    <tr>\n",
       "      <th>order_frequency_flag</th>\n",
       "      <th></th>\n",
       "      <th></th>\n",
       "    </tr>\n",
       "  </thead>\n",
       "  <tbody>\n",
       "    <tr>\n",
       "      <th>Frequent customer</th>\n",
       "      <td>390497</td>\n",
       "      <td>19402210</td>\n",
       "    </tr>\n",
       "    <tr>\n",
       "      <th>Non-frequent customer</th>\n",
       "      <td>44090</td>\n",
       "      <td>2463901</td>\n",
       "    </tr>\n",
       "    <tr>\n",
       "      <th>Regular customer</th>\n",
       "      <td>128765</td>\n",
       "      <td>6525145</td>\n",
       "    </tr>\n",
       "  </tbody>\n",
       "</table>\n",
       "</div>"
      ],
      "text/plain": [
       "spending_flag          High spender  Low spender\n",
       "order_frequency_flag                            \n",
       "Frequent customer            390497     19402210\n",
       "Non-frequent customer         44090      2463901\n",
       "Regular customer             128765      6525145"
      ]
     },
     "execution_count": 178,
     "metadata": {},
     "output_type": "execute_result"
    }
   ],
   "source": [
    "#spending & Frequency flag\n",
    "crosstab_spend_freq= pd.crosstab(df_new['order_frequency_flag'], df_new['spending_flag'], dropna = False)\n",
    "crosstab_spend_freq"
   ]
  },
  {
   "cell_type": "code",
   "execution_count": 183,
   "id": "1848a39e",
   "metadata": {},
   "outputs": [
    {
     "data": {
      "text/plain": [
       "<matplotlib.legend.Legend at 0x1591eb52190>"
      ]
     },
     "execution_count": 183,
     "metadata": {},
     "output_type": "execute_result"
    },
    {
     "data": {
      "image/png": "[encoded data removed]",
      "text/plain": [
       "<Figure size 432x288 with 1 Axes>"
      ]
     },
     "metadata": {
      "needs_background": "light"
     },
     "output_type": "display_data"
    }
   ],
   "source": [
    "spend_freq_bar = crosstab_spend_freq.plot.bar(stacked = True, color = ['orange', 'green'])\n",
    "plt.legend(title='Spending Frequency')"
   ]
  },
  {
   "cell_type": "code",
   "execution_count": 187,
   "id": "f8010b90",
   "metadata": {},
   "outputs": [],
   "source": [
    "#save chart\n",
    "\n",
    "spend_freq_bar.figure.savefig(os.path.join(r\"C:\\Users\\18179\\Documents\\CareerFoundry\\InstaCart Basket Analysis\\04 Analysis\\Visualizations\", 'spend_freq_bar.png'))"
   ]
  },
  {
   "cell_type": "code",
   "execution_count": 184,
   "id": "dd5612cf",
   "metadata": {},
   "outputs": [
    {
     "data": {
      "text/html": [
       "<div>\n",
       "<style scoped>\n",
       "    .dataframe tbody tr th:only-of-type {\n",
       "        vertical-align: middle;\n",
       "    }\n",
       "\n",
       "    .dataframe tbody tr th {\n",
       "        vertical-align: top;\n",
       "    }\n",
       "\n",
       "    .dataframe thead th {\n",
       "        text-align: right;\n",
       "    }\n",
       "</style>\n",
       "<table border=\"1\" class=\"dataframe\">\n",
       "  <thead>\n",
       "    <tr style=\"text-align: right;\">\n",
       "      <th>income_level</th>\n",
       "      <th>high_income</th>\n",
       "      <th>low_income</th>\n",
       "      <th>mid_income</th>\n",
       "    </tr>\n",
       "    <tr>\n",
       "      <th>order_frequency_flag</th>\n",
       "      <th></th>\n",
       "      <th></th>\n",
       "      <th></th>\n",
       "    </tr>\n",
       "  </thead>\n",
       "  <tbody>\n",
       "    <tr>\n",
       "      <th>Frequent customer</th>\n",
       "      <td>9115210</td>\n",
       "      <td>2043891</td>\n",
       "      <td>8633606</td>\n",
       "    </tr>\n",
       "    <tr>\n",
       "      <th>Non-frequent customer</th>\n",
       "      <td>1122708</td>\n",
       "      <td>319254</td>\n",
       "      <td>1066029</td>\n",
       "    </tr>\n",
       "    <tr>\n",
       "      <th>Regular customer</th>\n",
       "      <td>3047390</td>\n",
       "      <td>757329</td>\n",
       "      <td>2849191</td>\n",
       "    </tr>\n",
       "  </tbody>\n",
       "</table>\n",
       "</div>"
      ],
      "text/plain": [
       "income_level           high_income  low_income  mid_income\n",
       "order_frequency_flag                                      \n",
       "Frequent customer          9115210     2043891     8633606\n",
       "Non-frequent customer      1122708      319254     1066029\n",
       "Regular customer           3047390      757329     2849191"
      ]
     },
     "execution_count": 184,
     "metadata": {},
     "output_type": "execute_result"
    }
   ],
   "source": [
    "#income level & Frequency flag\n",
    "crosstab_income_freq= pd.crosstab(df_new['order_frequency_flag'], df_new['income_level'], dropna = False)\n",
    "crosstab_income_freq"
   ]
  },
  {
   "cell_type": "code",
   "execution_count": 189,
   "id": "6980c3b4",
   "metadata": {},
   "outputs": [],
   "source": [
    "crosstab_income_freq.to_clipboard()"
   ]
  },
  {
   "cell_type": "code",
   "execution_count": 186,
   "id": "8848b294",
   "metadata": {},
   "outputs": [
    {
     "data": {
      "text/plain": [
       "<matplotlib.legend.Legend at 0x1591b779e20>"
      ]
     },
     "execution_count": 186,
     "metadata": {},
     "output_type": "execute_result"
    },
    {
     "data": {
      "image/png": "[encoded data removed]",
      "text/plain": [
       "<Figure size 432x288 with 1 Axes>"
      ]
     },
     "metadata": {
      "needs_background": "light"
     },
     "output_type": "display_data"
    }
   ],
   "source": [
    "#create graph\n",
    "\n",
    "income_freq_bar = crosstab_income_freq.plot.bar(stacked = True, color = ['orange', 'blue', 'green'])\n",
    "plt.legend(title='Income Frequency')"
   ]
  },
  {
   "cell_type": "code",
   "execution_count": 188,
   "id": "d50a1e22",
   "metadata": {},
   "outputs": [],
   "source": [
    "income_freq_bar.figure.savefig(os.path.join(r\"C:\\Users\\18179\\Documents\\CareerFoundry\\InstaCart Basket Analysis\\04 Analysis\\Visualizations\", 'income_freq_bar.png'))"
   ]
  },
  {
   "cell_type": "code",
   "execution_count": null,
   "id": "ac520ae9",
   "metadata": {},
   "outputs": [],
   "source": []
  }
 ],
 "metadata": {
  "kernelspec": {
   "display_name": "Python 3",
   "language": "python",
   "name": "python3"
  },
  "language_info": {
   "codemirror_mode": {
    "name": "ipython",
    "version": 3
   },
   "file_extension": ".py",
   "mimetype": "text/x-python",
   "name": "python",
   "nbconvert_exporter": "python",
   "pygments_lexer": "ipython3",
   "version": "3.8.8"
  }
 },
 "nbformat": 4,
 "nbformat_minor": 5
}
